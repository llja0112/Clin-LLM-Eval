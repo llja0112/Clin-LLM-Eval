{
 "cells": [
  {
   "cell_type": "code",
   "execution_count": 101,
   "metadata": {},
   "outputs": [],
   "source": [
    "import pandas as pd\n",
    "\n",
    "details = pd.read_excel(\"Data/Case_1.xlsx\", sheet_name=\"Details\")\n",
    "history = pd.read_excel(\"Data/Case_1.xlsx\", sheet_name=\"History Taking\", keep_default_na=False)\n",
    "physical = pd.read_excel(\"Data/Case_1.xlsx\", sheet_name=\"Physical Examination\")\n",
    "diagnosis = pd.read_excel(\"Data/Case_1.xlsx\", sheet_name=\"Differential Diagnosis\")\n",
    "Investigations = pd.read_excel(\"Data/Case_1.xlsx\", sheet_name=\"Investigations\")"
   ]
  },
  {
   "cell_type": "code",
   "execution_count": 133,
   "metadata": {},
   "outputs": [],
   "source": [
    "\n",
    "from importlib import reload\n",
    "import simulator\n",
    "# from simulator.generators import CaseGenerator\n",
    "reload(simulator)\n",
    "\n",
    "history_taking_example = \"\\n\".join(\n",
    "  [f\"Question: {row['Question']} | Response: {row['Patient Response']}\"\n",
    "    for index, row in history.iterrows()])\n",
    "\n",
    "case_generator = simulator.generators.CaseGenerator(\n",
    "  model_name=\"gpt-4o-mini\",\n",
    "  case_stem = \"Man comes to ED complaining of chest pain\",\n",
    "  basic_details_example= details[\"Case Prompt\"].values[0],\n",
    "  vitals_example = details[\"Vitals\"].values[0],\n",
    "  physical_presentation_example = details[\"Physical presentation\"].values[0],\n",
    "  challenging_question_example = details[\"Challenging Questions to Ask\"].values[0],\n",
    "  history_taking_example = history_taking_example\n",
    ")"
   ]
  },
  {
   "cell_type": "code",
   "execution_count": 134,
   "metadata": {},
   "outputs": [],
   "source": [
    "output = case_generator.generate_basic_details()"
   ]
  },
  {
   "cell_type": "code",
   "execution_count": 135,
   "metadata": {},
   "outputs": [
    {
     "data": {
      "text/plain": [
       "['Michael Green, a 52-year-old male, comes to the ED complaining of chest pain.',\n",
       " 'BP: 150/95 mm Hg\\nTemp: 99.1°F (37.3°C)\\nRR: 20/minute\\nHR: 88/minute, regular',\n",
       " None,\n",
       " \"'Could this be something serious? What should I do next?'\"]"
      ]
     },
     "execution_count": 135,
     "metadata": {},
     "output_type": "execute_result"
    }
   ],
   "source": [
    "output"
   ]
  },
  {
   "cell_type": "code",
   "execution_count": 136,
   "metadata": {},
   "outputs": [],
   "source": [
    "output = case_generator.generate_history()"
   ]
  },
  {
   "cell_type": "code",
   "execution_count": 138,
   "metadata": {},
   "outputs": [
    {
     "data": {
      "text/plain": [
       "HistoryTakingChecklist(ChecklistItems=[HistoryTakingChecklistItem(question='Chief complaint', response='Chest pain'), HistoryTakingChecklistItem(question='Onset', response='Forty minutes ago'), HistoryTakingChecklistItem(question='Precipitating events', response='Nothing; I was sitting and suddenly felt this pain.'), HistoryTakingChecklistItem(question='Progression', response='Constant severity'), HistoryTakingChecklistItem(question='Severity on a scale of 1 to 10', response='My pain is 6 out of 10'), HistoryTakingChecklistItem(question='Location', response='Center of the chest, feels tight.'), HistoryTakingChecklistItem(question='Radiation', response='To my left arm and jaw.'), HistoryTakingChecklistItem(question='Quality', response='Tightness, like a band around my chest.'), HistoryTakingChecklistItem(question='Alleviating / Exacerbating factors', response='Nothing seems to help.'), HistoryTakingChecklistItem(question='Shortness of breath', response='Yes, I feel a bit short of breath.'), HistoryTakingChecklistItem(question='Nausea / Vomiting', response='No nausea or vomiting.'), HistoryTakingChecklistItem(question='Sweating', response='Yes, I am sweating a bit.'), HistoryTakingChecklistItem(question='Associated symptoms such as cough, wheezing, abdominal pain, diarrhea, constipation', response='No associated symptoms.'), HistoryTakingChecklistItem(question='Previous episodes of similar pain', response='Yes, but not as severe.'), HistoryTakingChecklistItem(question='Onset of previous episode', response='About 6 months ago.'), HistoryTakingChecklistItem(question='Severity of previous episode', response='Less severe, around 4 out of 10.'), HistoryTakingChecklistItem(question='Frequency of previous episodes', response='Occasionally, maybe once a month.'), HistoryTakingChecklistItem(question='Precipitating events for previous episodes', response='Usually after heavy meals or stress.'), HistoryTakingChecklistItem(question='Alleviating factors for previous episodes', response='Resting helps.'), HistoryTakingChecklistItem(question='Associated symptoms', response='None.'), HistoryTakingChecklistItem(question='Current medications', response='I take medication for high blood pressure.'), HistoryTakingChecklistItem(question='Past medical history', response='Hypertension for 10 years, controlled with medication.'), HistoryTakingChecklistItem(question='Past surgical history', response='None.'), HistoryTakingChecklistItem(question='Family history', response='My father had a heart attack at 65, my mother has diabetes.'), HistoryTakingChecklistItem(question='Occupation', response='I work as a construction manager.'), HistoryTakingChecklistItem(question='Alcohol use', response='I drink socially, maybe 2-3 times a month.'), HistoryTakingChecklistItem(question='Illicit drugs', response='I used to smoke marijuana occasionally.'), HistoryTakingChecklistItem(question='Duration of marijuana use', response='On and off for about 5 years.'), HistoryTakingChecklistItem(question='Last time of marijuana use', response='A few months ago.'), HistoryTakingChecklistItem(question='Tobacco history', response='I smoked for 20 years, but I quit 5 years ago.'), HistoryTakingChecklistItem(question='Duration of tobacco use', response='20 years.'), HistoryTakingChecklistItem(question='Sexual history', response=\"I have not had any issues, but I haven't been very active lately.\"), HistoryTakingChecklistItem(question='Exercise', response='I try to walk a few times a week.'), HistoryTakingChecklistItem(question='Diet', response='I try to eat healthy, but I indulge sometimes.'), HistoryTakingChecklistItem(question='Drug Allergies', response='No known drug allergies.')])"
      ]
     },
     "execution_count": 138,
     "metadata": {},
     "output_type": "execute_result"
    }
   ],
   "source": [
    "output"
   ]
  },
  {
   "cell_type": "code",
   "execution_count": 140,
   "metadata": {},
   "outputs": [],
   "source": [
    "output = case_generator.generate_physical_exam()"
   ]
  },
  {
   "cell_type": "code",
   "execution_count": 144,
   "metadata": {},
   "outputs": [
    {
     "data": {
      "text/plain": [
       "PhysicalExamChecklist(ChecklistItems=[PhysicalExamChecklistItem(technique='Inspection of the chest', justification='To assess for any visible abnormalities, such as asymmetry, deformities, or signs of distress.'), PhysicalExamChecklistItem(technique='Palpation of the chest wall', justification='To identify any areas of tenderness, crepitus, or abnormal masses.'), PhysicalExamChecklistItem(technique='Auscultation of heart sounds', justification='To evaluate for any abnormal heart sounds, murmurs, or signs of ischemia.'), PhysicalExamChecklistItem(technique='Auscultation of lung sounds', justification='To check for any abnormal lung sounds, such as wheezing or crackles, which may indicate respiratory issues.'), PhysicalExamChecklistItem(technique='Assessment of peripheral pulses', justification='To evaluate circulation and check for any signs of peripheral vascular disease.'), PhysicalExamChecklistItem(technique='Blood pressure measurement in both arms', justification='To assess for any significant differences that may indicate vascular issues.'), PhysicalExamChecklistItem(technique='Examination of the abdomen', justification='To rule out any abdominal causes of chest pain, such as referred pain from gastrointestinal issues.'), PhysicalExamChecklistItem(technique='Assessment of jugular venous pressure (JVP)', justification='To evaluate for signs of heart failure or fluid overload.'), PhysicalExamChecklistItem(technique='Neurological examination of the upper extremities', justification='To assess for any neurological deficits that may indicate a more serious condition.'), PhysicalExamChecklistItem(technique='Skin examination', justification='To check for diaphoresis or any signs of cyanosis that may indicate distress or poor perfusion.')])"
      ]
     },
     "execution_count": 144,
     "metadata": {},
     "output_type": "execute_result"
    }
   ],
   "source": [
    "output"
   ]
  },
  {
   "cell_type": "code",
   "execution_count": 145,
   "metadata": {},
   "outputs": [],
   "source": [
    "output = case_generator.generate_investigations()"
   ]
  },
  {
   "cell_type": "code",
   "execution_count": 146,
   "metadata": {},
   "outputs": [
    {
     "data": {
      "text/plain": [
       "InvestigationsChecklist(ChecklistItems=[InvestigationsChecklistItem(investigation='Electrocardiogram (ECG)', justification=\"To assess for any signs of ischemia or infarction given the patient's chest pain and risk factors.\"), InvestigationsChecklistItem(investigation='Cardiac biomarkers (e.g., troponin levels)', justification=\"To evaluate for myocardial injury or infarction, especially considering the patient's symptoms and family history.\"), InvestigationsChecklistItem(investigation='Chest X-ray', justification='To rule out other causes of chest pain such as pneumonia, pneumothorax, or aortic dissection.'), InvestigationsChecklistItem(investigation='Complete blood count (CBC)', justification=\"To check for any signs of infection or anemia that could contribute to the patient's symptoms.\"), InvestigationsChecklistItem(investigation='Basic metabolic panel (BMP)', justification='To assess electrolyte levels and kidney function, which can be important in the context of chest pain.'), InvestigationsChecklistItem(investigation='Lipid profile', justification=\"To evaluate the patient's cardiovascular risk factors, especially given the family history of heart disease.\"), InvestigationsChecklistItem(investigation='Echocardiogram', justification='To assess cardiac function and structure, especially if there are concerns about heart failure or valvular disease.'), InvestigationsChecklistItem(investigation='Stress test or cardiac imaging (if stable)', justification='To evaluate for inducible ischemia if initial tests are inconclusive and the patient is stable.')])"
      ]
     },
     "execution_count": 146,
     "metadata": {},
     "output_type": "execute_result"
    }
   ],
   "source": [
    "output"
   ]
  },
  {
   "cell_type": "code",
   "execution_count": 147,
   "metadata": {},
   "outputs": [],
   "source": [
    "output = case_generator.generate_ddx()"
   ]
  },
  {
   "cell_type": "code",
   "execution_count": 148,
   "metadata": {},
   "outputs": [
    {
     "data": {
      "text/plain": [
       "DdxChecklist(ChecklistItems=[DdxChecklistItem(diagnosis='Acute Coronary Syndrome (ACS)', justification=\"The patient's chest pain is central, tight, and radiates to the left arm and jaw, which are classic symptoms of ACS. The history of hypertension and family history of heart disease further support this diagnosis.\"), DdxChecklistItem(diagnosis='Pulmonary Embolism (PE)', justification='The patient presents with chest pain and shortness of breath, which could indicate a PE, especially considering the labored breathing and sweating.'), DdxChecklistItem(diagnosis='Aortic Dissection', justification=\"The sudden onset of severe chest pain and the nature of the pain could suggest an aortic dissection, particularly given the patient's age and history.\"), DdxChecklistItem(diagnosis='Gastroesophageal Reflux Disease (GERD)', justification='The patient has a history of similar episodes after heavy meals, which could indicate GERD, although the current episode is more severe.'), DdxChecklistItem(diagnosis='Pneumothorax', justification=\"The patient's labored breathing and chest pain could suggest a pneumothorax, especially if there is a history of trauma or underlying lung disease.\"), DdxChecklistItem(diagnosis='Costochondritis', justification='The nature of the pain and the fact that it has occurred previously could suggest costochondritis, although the severity and associated symptoms make this less likely.'), DdxChecklistItem(diagnosis='Esophageal Spasm', justification='The tightness in the chest and the history of similar episodes could indicate esophageal spasm, particularly if related to stress or heavy meals.'), DdxChecklistItem(diagnosis='Myocardial Infarction (MI)', justification=\"Given the patient's risk factors, including hypertension and family history, an MI must be considered, especially with the current presentation of chest pain.\")])"
      ]
     },
     "execution_count": 148,
     "metadata": {},
     "output_type": "execute_result"
    }
   ],
   "source": [
    "output"
   ]
  }
 ],
 "metadata": {
  "kernelspec": {
   "display_name": "medbot",
   "language": "python",
   "name": "python3"
  },
  "language_info": {
   "codemirror_mode": {
    "name": "ipython",
    "version": 3
   },
   "file_extension": ".py",
   "mimetype": "text/x-python",
   "name": "python",
   "nbconvert_exporter": "python",
   "pygments_lexer": "ipython3",
   "version": "3.11.9"
  }
 },
 "nbformat": 4,
 "nbformat_minor": 2
}
