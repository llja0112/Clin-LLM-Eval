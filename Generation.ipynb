{
 "cells": [
  {
   "cell_type": "markdown",
   "metadata": {},
   "source": [
    "# Generate structured cases for the following scenarios\n",
    "\n",
    "1. 52 year old man comes to ED complaining of chest pain\n",
    "2. Middle aged man comes to outpatient clinic complaining of bloody urine\n",
    "3. 49 year old man comes to clinic complaining of back pain \n",
    "4. 28 year old man walks into ED after a motor vehicle accident\n",
    "5. 32 year old woman walks into clinic with a positive pregnancy test\n",
    "6. 8 year old girl comes to clinic with newly diagnosed diabetes\n",
    "7. 69 year old man complains of left arm pain\n",
    "8. 63 year old woman comes back to clinic for follow-up of diabetes\n",
    "9. 28 year old lady comes to ED after sexual assault\n",
    "10. 40 year old woman complains of right calf pain\n",
    "11. 65 year old man presents with new onset hoarseness of voice"
   ]
  },
  {
   "cell_type": "code",
   "execution_count": 266,
   "metadata": {},
   "outputs": [],
   "source": [
    "import pandas as pd\n",
    "\n",
    "details = pd.read_excel(\"Data/Case_1.xlsx\", sheet_name=\"Details\")\n",
    "history = pd.read_excel(\"Data/Case_1.xlsx\", sheet_name=\"History Taking\", keep_default_na=False)\n",
    "physical = pd.read_excel(\"Data/Case_1.xlsx\", sheet_name=\"Physical Examination\")\n",
    "diagnosis = pd.read_excel(\"Data/Case_1.xlsx\", sheet_name=\"Differential Diagnosis\")\n",
    "Investigations = pd.read_excel(\"Data/Case_1.xlsx\", sheet_name=\"Investigations\")"
   ]
  },
  {
   "cell_type": "code",
   "execution_count": 376,
   "metadata": {},
   "outputs": [],
   "source": [
    "\n",
    "from importlib import reload\n",
    "import simulator\n",
    "reload(simulator.generators)\n",
    "\n",
    "history_taking_example = \"\\n\".join(\n",
    "  [f\"Question: {row['Question']} | Response: {row['Patient Response']}\"\n",
    "    for index, row in history.iterrows()])\n",
    "\n",
    "case_generator = simulator.generators.CaseGenerator(\n",
    "  model_name=\"gpt-4o-mini\",\n",
    "  case_stem = \"65 year old man presents with new onset hoarseness of voice\",\n",
    "  basic_details_example= details[\"Case Prompt\"].values[0],\n",
    "  vitals_example = details[\"Vitals\"].values[0],\n",
    "  physical_presentation_example = details[\"Physical presentation\"].values[0],\n",
    "  challenging_question_example = details[\"Challenging Questions to Ask\"].values[0],\n",
    "  history_taking_example = history_taking_example\n",
    ")"
   ]
  },
  {
   "cell_type": "code",
   "execution_count": 377,
   "metadata": {},
   "outputs": [],
   "source": [
    "output = case_generator.generate_basic_details()"
   ]
  },
  {
   "cell_type": "code",
   "execution_count": 378,
   "metadata": {},
   "outputs": [
    {
     "data": {
      "text/plain": [
       "['Robert Smith, a 65-year-old male, presents to the clinic with new onset hoarseness of voice over the past two weeks.',\n",
       " 'BP: 130/80 mm Hg\\nTemp: 98.4°F (36.9°C)\\nRR: 18/minute\\nHR: 78/minute, regular',\n",
       " None,\n",
       " '“Could this be something serious like cancer? What should I do next?”']"
      ]
     },
     "execution_count": 378,
     "metadata": {},
     "output_type": "execute_result"
    }
   ],
   "source": [
    "output"
   ]
  },
  {
   "cell_type": "code",
   "execution_count": 379,
   "metadata": {},
   "outputs": [],
   "source": [
    "output = case_generator.generate_history()"
   ]
  },
  {
   "cell_type": "code",
   "execution_count": 380,
   "metadata": {},
   "outputs": [
    {
     "data": {
      "text/plain": [
       "HistoryTakingChecklist(ChecklistItems=[HistoryTakingChecklistItem(question='Chief complaint', response='Hoarseness of voice for the past two weeks.'), HistoryTakingChecklistItem(question='Onset', response='Two weeks ago.'), HistoryTakingChecklistItem(question='Progression', response='Worsening over the past two weeks.'), HistoryTakingChecklistItem(question='Severity on a scale of 1 to 10', response='About 5 out of 10.'), HistoryTakingChecklistItem(question='Duration of hoarseness', response='Constant since it started.'), HistoryTakingChecklistItem(question='Associated symptoms such as cough, sore throat, fever, or difficulty swallowing', response='No cough or sore throat, no fever, but feels like something is stuck in my throat.'), HistoryTakingChecklistItem(question='Previous episodes of hoarseness', response='No, this is the first time.'), HistoryTakingChecklistItem(question='Recent upper respiratory infections', response='No recent infections.'), HistoryTakingChecklistItem(question='Voice use', response='I use my voice a lot for work.'), HistoryTakingChecklistItem(question='Alleviating factors', response='Resting my voice helps a little.'), HistoryTakingChecklistItem(question='Exacerbating factors', response='Talking for long periods makes it worse.'), HistoryTakingChecklistItem(question='Current medications', response='None.'), HistoryTakingChecklistItem(question='Past medical history', response='No significant past medical history.'), HistoryTakingChecklistItem(question='Past surgical history', response='None.'), HistoryTakingChecklistItem(question='Family history', response='No family history of throat cancer or other significant illnesses.'), HistoryTakingChecklistItem(question='Occupation', response='I am a teacher.'), HistoryTakingChecklistItem(question='Alcohol use', response='Occasionally, socially.'), HistoryTakingChecklistItem(question='Illicit drugs', response='No.'), HistoryTakingChecklistItem(question='Tobacco history', response='I smoked for 30 years but quit 5 years ago.'), HistoryTakingChecklistItem(question='Duration of tobacco use', response='30 years.'), HistoryTakingChecklistItem(question='Last time of tobacco use', response='5 years ago.'), HistoryTakingChecklistItem(question='Exposure to environmental irritants', response='No significant exposure.'), HistoryTakingChecklistItem(question='Anxiety about condition', response='Yes, I am a bit anxious about it.'), HistoryTakingChecklistItem(question='Diet', response='I eat a balanced diet.'), HistoryTakingChecklistItem(question='Drug Allergies', response='No known drug allergies.')])"
      ]
     },
     "execution_count": 380,
     "metadata": {},
     "output_type": "execute_result"
    }
   ],
   "source": [
    "output"
   ]
  },
  {
   "cell_type": "code",
   "execution_count": 381,
   "metadata": {},
   "outputs": [],
   "source": [
    "output = case_generator.generate_physical_exam()"
   ]
  },
  {
   "cell_type": "code",
   "execution_count": 382,
   "metadata": {},
   "outputs": [
    {
     "data": {
      "text/plain": [
       "PhysicalExamChecklist(ChecklistItems=[PhysicalExamChecklistItem(technique='Inspection of the throat and oral cavity', justification='To assess for any visible lesions, swelling, or abnormalities that may contribute to hoarseness.'), PhysicalExamChecklistItem(technique='Palpation of the neck', justification='To check for any lymphadenopathy or masses that may indicate underlying pathology.'), PhysicalExamChecklistItem(technique='Laryngeal examination (if possible, using a laryngoscope)', justification='To directly visualize the vocal cords and assess for any lesions or abnormalities.'), PhysicalExamChecklistItem(technique='Auscultation of the lungs', justification=\"To rule out any respiratory issues that may be contributing to the patient's symptoms.\"), PhysicalExamChecklistItem(technique='Neurological examination (including cranial nerve assessment)', justification='To evaluate for any neurological causes of hoarseness, such as vagus nerve involvement.'), PhysicalExamChecklistItem(technique='Assessment of voice quality and phonation', justification='To document the characteristics of the hoarseness and any changes in voice quality.'), PhysicalExamChecklistItem(technique='Assessment of hydration status', justification='To ensure the patient is adequately hydrated, as dehydration can exacerbate hoarseness.'), PhysicalExamChecklistItem(technique='Examination of the chest', justification='To rule out any thoracic issues that may be affecting the larynx or vocal cords.'), PhysicalExamChecklistItem(technique='Assessment of anxiety levels', justification=\"To address the patient's anxiety, which may impact their overall health and voice use.\")])"
      ]
     },
     "execution_count": 382,
     "metadata": {},
     "output_type": "execute_result"
    }
   ],
   "source": [
    "output"
   ]
  },
  {
   "cell_type": "code",
   "execution_count": 383,
   "metadata": {},
   "outputs": [],
   "source": [
    "output = case_generator.generate_investigations()"
   ]
  },
  {
   "cell_type": "code",
   "execution_count": 384,
   "metadata": {},
   "outputs": [
    {
     "data": {
      "text/plain": [
       "InvestigationsChecklist(ChecklistItems=[InvestigationsChecklistItem(investigation='Laryngoscopy', justification=\"To directly visualize the vocal cords and larynx for any lesions, nodules, or signs of malignancy, especially given the patient's smoking history and new onset hoarseness.\"), InvestigationsChecklistItem(investigation='Thyroid function tests', justification='To rule out any thyroid-related issues that could contribute to voice changes, particularly in an older male.'), InvestigationsChecklistItem(investigation='Complete blood count (CBC)', justification='To check for any signs of infection or anemia that could be contributing to the symptoms.'), InvestigationsChecklistItem(investigation='Chest X-ray', justification='To rule out any pulmonary issues or masses that could be affecting the voice, especially considering the smoking history.'), InvestigationsChecklistItem(investigation='Allergy testing', justification='To evaluate for any potential allergic causes of throat irritation that may not have been previously identified.'), InvestigationsChecklistItem(investigation='Voice assessment by a speech therapist', justification=\"To evaluate the functional aspects of voice use and provide recommendations for voice care, especially given the patient's occupation as a teacher.\")])"
      ]
     },
     "execution_count": 384,
     "metadata": {},
     "output_type": "execute_result"
    }
   ],
   "source": [
    "output"
   ]
  },
  {
   "cell_type": "code",
   "execution_count": 385,
   "metadata": {},
   "outputs": [],
   "source": [
    "output = case_generator.generate_ddx()"
   ]
  },
  {
   "cell_type": "code",
   "execution_count": 386,
   "metadata": {},
   "outputs": [
    {
     "data": {
      "text/plain": [
       "DdxChecklist(ChecklistItems=[DdxChecklistItem(diagnosis='Laryngeal cancer', justification=\"Given the patient's age, smoking history, and new onset hoarseness, laryngeal cancer is a significant concern.\"), DdxChecklistItem(diagnosis='Vocal cord nodules or polyps', justification='As a teacher, the patient likely uses his voice extensively, which can lead to vocal cord nodules or polyps causing hoarseness.'), DdxChecklistItem(diagnosis='Laryngitis', justification=\"Although the patient denies recent upper respiratory infections, laryngitis can occur due to overuse of the voice, which fits the patient's history.\"), DdxChecklistItem(diagnosis='Gastroesophageal reflux disease (GERD)', justification='The sensation of something stuck in the throat may suggest GERD, which can cause hoarseness due to acid irritation.'), DdxChecklistItem(diagnosis='Thyroid dysfunction (e.g., goiter or thyroiditis)', justification='Thyroid issues can lead to voice changes and should be considered, especially in older adults.'), DdxChecklistItem(diagnosis='Neurological conditions (e.g., vocal cord paralysis)', justification=\"Neurological issues can lead to hoarseness and should be evaluated, particularly given the patient's age.\"), DdxChecklistItem(diagnosis='Allergic rhinitis or post-nasal drip', justification='Although the patient denies cough or sore throat, post-nasal drip can cause throat irritation and hoarseness.'), DdxChecklistItem(diagnosis='Infectious causes (e.g., viral laryngitis)', justification='While the patient has no recent infections, viral infections can still cause hoarseness and should be considered.')])"
      ]
     },
     "execution_count": 386,
     "metadata": {},
     "output_type": "execute_result"
    }
   ],
   "source": [
    "output"
   ]
  },
  {
   "cell_type": "code",
   "execution_count": 387,
   "metadata": {},
   "outputs": [
    {
     "name": "stdout",
     "output_type": "stream",
     "text": [
      ">>> Exporting basic details\n",
      ">>> Exporting history\n",
      ">>> Exporting Physical Exam\n",
      ">>> Exporting Investigations\n",
      ">>> Exporting Differential Diagnosis\n"
     ]
    }
   ],
   "source": [
    "case_generator.export_case(file_name=\"11\")"
   ]
  }
 ],
 "metadata": {
  "kernelspec": {
   "display_name": "medbot",
   "language": "python",
   "name": "python3"
  },
  "language_info": {
   "codemirror_mode": {
    "name": "ipython",
    "version": 3
   },
   "file_extension": ".py",
   "mimetype": "text/x-python",
   "name": "python",
   "nbconvert_exporter": "python",
   "pygments_lexer": "ipython3",
   "version": "3.11.9"
  }
 },
 "nbformat": 4,
 "nbformat_minor": 2
}
