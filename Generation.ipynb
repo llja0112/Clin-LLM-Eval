{
 "cells": [
  {
   "cell_type": "markdown",
   "metadata": {},
   "source": [
    "# Generate structured cases for the following scenarios\n",
    "\n",
    "1. 52 year old man comes to ED complaining of chest pain\n",
    "2. 45 year old man comes to outpatient clinic complaining of bloody urine\n",
    "3. 49 year old man comes to clinic complaining of back pain \n",
    "4. 28 year old man walks into ED after a motor vehicle accident\n",
    "5. 32 year old woman walks into clinic with a positive pregnancy test\n",
    "6. 11 year old girl comes to clinic with an elevated glucose test from school nurse\n",
    "7. 69 year old man complains of left arm pain\n",
    "8. 63 year old woman comes back to clinic for follow-up of diabetes\n",
    "9. 28 year old lady comes to ED after sexual assault\n",
    "10. 40 year old woman complains of right calf pain\n",
    "11. 65 year old man presents with new onset hoarseness of voice\n",
    "12. 70 year old lady presenting to clinic with neck pain\n",
    "13. 55 year old female admitted to ED for abdominal pain\n",
    "14. 38 year old woman presents to clinic with headache\n",
    "15. 35 year old lady complains of irregular menses\n",
    "16. 24 year old young female presents to clinic with regular pain during sex\n",
    "17. 80 year old elderly gentleman complaining of hearing loss\n",
    "18. 5 year old girl coming in to clinic with jaundice\n",
    "19. 8 month old boy presents to ED with fever\n",
    "20. 22 year old young gentleman presents to clinic with cough\n",
    "21. 49 year old lady presenting to clinic with jaundice\n",
    "22. 55 year old male complains of dizziness\n",
    "23. 35 year old young lady presenting to the clinic with knee pain\n",
    "24. 28 year old young man complains of heel pain\n",
    "25. 19 month old girl presenting to clinic with fever\n",
    "26. 58 year old woman complains of chronic cough\n",
    "27. 59 year old man complains of chronic fatigue\n",
    "28. 61 year old man comes to clinic for followup on hypertension\n",
    "29. 23 year old young lady complains of sleeping issues\n",
    "30. 2 year old girl presents to clinic with persistent noisy breathing\n",
    "31. 24 year old woman presents to ED with abdominal pain\n",
    "32. 68 year old elderly lady complaining of forgetfulness and disorientation\n",
    "33. 49 year old man came to clinic complaining of fatigue\n",
    "34. 32 year old young lady presents to clinic with fatigue\n",
    "35. 26 year old man complains of visual and auditory hallucinations\n",
    "36. 29 year old woman presents in clinic for pre employment physical\n",
    "37. 59 year old man presents to ED with bloody stools\n",
    "38. 61 year old man presents to clinic with tremors and walking problems\n",
    "39. 32 year old young woman came to clinic with weight gain\n",
    "40. 5 month old girl presents to ED with multiple episodes of diarrhoea\n",
    "41. 7 year old boy presents to clinic with bed wetting\n",
    "42. 13 month old girl presents to ED with seizures\n",
    "43. 25 year old man complains of sore throat\n",
    "44. 54 year old man presents to ED with fall and loss of consciousness"
   ]
  },
  {
   "cell_type": "code",
   "execution_count": 442,
   "metadata": {},
   "outputs": [],
   "source": [
    "import pandas as pd\n",
    "\n",
    "details = pd.read_excel(\"Data/BaseCase.xlsx\", sheet_name=\"Details\")\n",
    "history = pd.read_excel(\"Data/BaseCase.xlsx\", sheet_name=\"History Taking\", keep_default_na=False)\n",
    "physical = pd.read_excel(\"Data/BaseCase.xlsx\", sheet_name=\"Physical Examination\")\n",
    "diagnosis = pd.read_excel(\"Data/BaseCase.xlsx\", sheet_name=\"Differential Diagnosis\")\n",
    "Investigations = pd.read_excel(\"Data/BaseCase.xlsx\", sheet_name=\"Investigations\")"
   ]
  },
  {
   "cell_type": "code",
   "execution_count": 444,
   "metadata": {},
   "outputs": [],
   "source": [
    "from importlib import reload\n",
    "import simulator\n",
    "reload(simulator.generators)\n",
    "\n",
    "history_taking_example = \"\\n\".join(\n",
    "  [f\"Question: {row['Question']} | Response: {row['Patient Response']}\"\n",
    "    for index, row in history.iterrows()])\n",
    "\n",
    "case_generator = simulator.generators.CaseGenerator(\n",
    "  model_name=\"gpt-4o\",\n",
    "  case_stem = \"65 year old man presents with new onset hoarseness of voice\",\n",
    "  basic_details_example= details[\"Case Prompt\"].values[0],\n",
    "  vitals_example = details[\"Vitals\"].values[0],\n",
    "  physical_presentation_example = details[\"Physical presentation\"].values[0],\n",
    "  challenging_question_example = details[\"Challenging Questions to Ask\"].values[0],\n",
    "  history_taking_example = history_taking_example\n",
    ")"
   ]
  },
  {
   "cell_type": "code",
   "execution_count": 445,
   "metadata": {},
   "outputs": [],
   "source": [
    "output = case_generator.generate_basic_details()"
   ]
  },
  {
   "cell_type": "code",
   "execution_count": 446,
   "metadata": {},
   "outputs": [
    {
     "data": {
      "text/plain": [
       "['Edward Green, a 65-year-old male, presents to the clinic with a new onset of hoarseness of voice.',\n",
       " 'BP: 130/80 mm Hg\\nTemp: 98.4°F (36.9°C)\\nRR: 18/minute\\nHR: 72/minute, regular',\n",
       " None,\n",
       " '“Could this be something serious like cancer?”']"
      ]
     },
     "execution_count": 446,
     "metadata": {},
     "output_type": "execute_result"
    }
   ],
   "source": [
    "output"
   ]
  },
  {
   "cell_type": "code",
   "execution_count": 447,
   "metadata": {},
   "outputs": [],
   "source": [
    "output = case_generator.generate_history()"
   ]
  },
  {
   "cell_type": "code",
   "execution_count": 448,
   "metadata": {},
   "outputs": [
    {
     "name": "stdout",
     "output_type": "stream",
     "text": [
      "Chief complaint\n",
      "Hoarseness of voice\n",
      "\n",
      "Onset\n",
      "Started about a week ago\n",
      "\n",
      "Precipitating events\n",
      "Noticed it after a long day of talking\n",
      "\n",
      "Progression\n",
      "It has been getting worse\n",
      "\n",
      "Alleviating / Exacerbating factors\n",
      "Resting my voice helps a bit\n",
      "\n",
      "Difficulty swallowing\n",
      "Slight difficulty with large or dry foods\n",
      "\n",
      "Throat clearing\n",
      "I occasionally need to clear my throat\n",
      "\n",
      "Associated symptoms\n",
      "No pain, but my throat feels a bit scratchy\n",
      "\n",
      "Previous episodes\n",
      "Never had this before\n",
      "\n",
      "Current medications\n",
      "None\n",
      "\n",
      "Past medical history\n",
      "I have high blood pressure, managed with diet\n",
      "\n",
      "Past surgical history\n",
      "Appendectomy 20 years ago\n",
      "\n",
      "Family history\n",
      "My father had a stroke at age 70. My mother is healthy.\n",
      "\n",
      "Occupation\n",
      "Retired teacher\n",
      "\n",
      "Alcohol use\n",
      "I drink socially, maybe once a week\n",
      "\n",
      "Tobacco history\n",
      "I smoked for 30 years, quit 5 years ago\n",
      "\n",
      "Duration of tobacco use\n",
      "30 years\n",
      "\n",
      "Exercise\n",
      "I walk daily for about 30 minutes\n",
      "\n",
      "Diet\n",
      "I try to eat a balanced diet\n",
      "\n",
      "Drug Allergies\n",
      "None\n",
      "\n"
     ]
    }
   ],
   "source": [
    "for item in output.ChecklistItems:\n",
    "  print(item.question)\n",
    "  print(item.response)\n",
    "  print()"
   ]
  },
  {
   "cell_type": "code",
   "execution_count": 449,
   "metadata": {},
   "outputs": [],
   "source": [
    "output = case_generator.generate_physical_exam()"
   ]
  },
  {
   "cell_type": "code",
   "execution_count": 450,
   "metadata": {},
   "outputs": [
    {
     "name": "stdout",
     "output_type": "stream",
     "text": [
      "Inspection of the throat and oral cavity\n",
      "To visually assess for any lesions, swelling, or abnormalities that could be contributing to the hoarseness.\n",
      "\n",
      "Palpation of the neck\n",
      "To check for any lymphadenopathy or masses that could indicate an underlying pathology.\n",
      "\n",
      "Auscultation of the lungs\n",
      "To rule out any respiratory issues that might be associated with the hoarseness.\n",
      "\n",
      "Examination of the vocal cords (indirect laryngoscopy)\n",
      "To directly visualize the vocal cords and assess for any abnormalities such as nodules, polyps, or paralysis.\n",
      "\n",
      "Neurological examination\n",
      "To assess for any neurological deficits that could be contributing to the hoarseness, especially given the patient's history of smoking.\n",
      "\n",
      "Examination of the cranial nerves\n",
      "To ensure there is no cranial nerve involvement, particularly the vagus nerve, which could affect voice.\n",
      "\n",
      "Assessment of swallowing function\n",
      "To evaluate the slight difficulty with swallowing and ensure there is no significant dysphagia.\n",
      "\n",
      "Examination of the thyroid gland\n",
      "To check for any enlargement or nodules that could be affecting the voice.\n",
      "\n"
     ]
    }
   ],
   "source": [
    "for item in output.ChecklistItems:\n",
    "  print(item.technique)\n",
    "  print(item.justification)\n",
    "  print()"
   ]
  },
  {
   "cell_type": "code",
   "execution_count": 451,
   "metadata": {},
   "outputs": [],
   "source": [
    "output = case_generator.generate_investigations()"
   ]
  },
  {
   "cell_type": "code",
   "execution_count": 452,
   "metadata": {},
   "outputs": [
    {
     "name": "stdout",
     "output_type": "stream",
     "text": [
      "Laryngoscopy\n",
      "To directly visualize the vocal cords and larynx to identify any structural abnormalities, lesions, or signs of inflammation that could explain the hoarseness.\n",
      "\n",
      "Neck CT or MRI\n",
      "To assess for any masses, tumors, or structural abnormalities in the neck region that might be affecting the vocal cords or surrounding structures.\n",
      "\n",
      "Thyroid function tests\n",
      "To rule out thyroid dysfunction, as thyroid issues can sometimes present with hoarseness.\n",
      "\n",
      "Chest X-ray\n",
      "To check for any mediastinal masses or lung pathology that might be impinging on the recurrent laryngeal nerve, leading to hoarseness.\n",
      "\n",
      "Complete blood count (CBC)\n",
      "To check for signs of infection or inflammation that might be contributing to the symptoms.\n",
      "\n",
      "ESR or CRP\n",
      "To assess for any underlying inflammatory processes that could be causing the hoarseness.\n",
      "\n"
     ]
    }
   ],
   "source": [
    "for item in output.ChecklistItems:\n",
    "  print(item.investigation)\n",
    "  print(item.justification)\n",
    "  print()"
   ]
  },
  {
   "cell_type": "code",
   "execution_count": 453,
   "metadata": {},
   "outputs": [],
   "source": [
    "output = case_generator.generate_ddx()"
   ]
  },
  {
   "cell_type": "code",
   "execution_count": 454,
   "metadata": {},
   "outputs": [
    {
     "name": "stdout",
     "output_type": "stream",
     "text": [
      "Laryngeal cancer\n",
      "The patient is a 65-year-old male with a history of smoking for 30 years, presenting with new-onset hoarseness of voice, which is a common symptom of laryngeal cancer. The progressive nature of the hoarseness and the slight difficulty swallowing large or dry foods further support this possibility.\n",
      "\n",
      "Vocal cord nodules or polyps\n",
      "The patient has a history of prolonged voice use (retired teacher) and noticed hoarseness after a long day of talking. Vocal cord nodules or polyps are common in individuals who use their voice extensively and can cause hoarseness.\n",
      "\n",
      "Gastroesophageal reflux disease (GERD)\n",
      "The patient reports occasional throat clearing and a scratchy throat, which can be associated with GERD. GERD can lead to laryngopharyngeal reflux, causing hoarseness and throat irritation.\n",
      "\n",
      "Vocal cord paralysis\n",
      "The patient presents with hoarseness and slight difficulty swallowing, which can be symptoms of vocal cord paralysis. This condition can occur due to nerve damage or other underlying issues.\n",
      "\n",
      "Chronic laryngitis\n",
      "The patient has a history of smoking and presents with hoarseness and throat clearing. Chronic laryngitis can be caused by smoking and lead to persistent hoarseness.\n",
      "\n",
      "Thyroid disease\n",
      "Thyroid disease, particularly an enlarged thyroid or thyroid nodules, can cause hoarseness by compressing the recurrent laryngeal nerve. The patient's age and history warrant consideration of this possibility.\n",
      "\n"
     ]
    }
   ],
   "source": [
    "for item in output.ChecklistItems:\n",
    "  print(item.diagnosis)\n",
    "  print(item.justification)\n",
    "  print()"
   ]
  },
  {
   "cell_type": "code",
   "execution_count": 455,
   "metadata": {},
   "outputs": [
    {
     "name": "stdout",
     "output_type": "stream",
     "text": [
      ">>> Exporting basic details\n",
      ">>> Exporting history\n",
      ">>> Exporting Physical Exam\n",
      ">>> Exporting Investigations\n",
      ">>> Exporting Differential Diagnosis\n"
     ]
    }
   ],
   "source": [
    "case_generator.export_case(file_name=\"11\")"
   ]
  }
 ],
 "metadata": {
  "kernelspec": {
   "display_name": "medbot",
   "language": "python",
   "name": "python3"
  },
  "language_info": {
   "codemirror_mode": {
    "name": "ipython",
    "version": 3
   },
   "file_extension": ".py",
   "mimetype": "text/x-python",
   "name": "python",
   "nbconvert_exporter": "python",
   "pygments_lexer": "ipython3",
   "version": "3.11.9"
  }
 },
 "nbformat": 4,
 "nbformat_minor": 2
}
