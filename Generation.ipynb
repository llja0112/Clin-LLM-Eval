{
 "cells": [
  {
   "cell_type": "code",
   "execution_count": 196,
   "metadata": {},
   "outputs": [],
   "source": [
    "import pandas as pd\n",
    "\n",
    "details = pd.read_excel(\"Data/Case_1.xlsx\", sheet_name=\"Details\")\n",
    "history = pd.read_excel(\"Data/Case_1.xlsx\", sheet_name=\"History Taking\", keep_default_na=False)\n",
    "physical = pd.read_excel(\"Data/Case_1.xlsx\", sheet_name=\"Physical Examination\")\n",
    "diagnosis = pd.read_excel(\"Data/Case_1.xlsx\", sheet_name=\"Differential Diagnosis\")\n",
    "Investigations = pd.read_excel(\"Data/Case_1.xlsx\", sheet_name=\"Investigations\")"
   ]
  },
  {
   "cell_type": "code",
   "execution_count": 237,
   "metadata": {},
   "outputs": [],
   "source": [
    "\n",
    "from importlib import reload\n",
    "import simulator\n",
    "reload(simulator.generators)\n",
    "\n",
    "history_taking_example = \"\\n\".join(\n",
    "  [f\"Question: {row['Question']} | Response: {row['Patient Response']}\"\n",
    "    for index, row in history.iterrows()])\n",
    "\n",
    "case_generator = simulator.generators.CaseGenerator(\n",
    "  model_name=\"gpt-4o-mini\",\n",
    "  case_stem = \"Man comes to ED complaining of chest pain\",\n",
    "  basic_details_example= details[\"Case Prompt\"].values[0],\n",
    "  vitals_example = details[\"Vitals\"].values[0],\n",
    "  physical_presentation_example = details[\"Physical presentation\"].values[0],\n",
    "  challenging_question_example = details[\"Challenging Questions to Ask\"].values[0],\n",
    "  history_taking_example = history_taking_example\n",
    ")"
   ]
  },
  {
   "cell_type": "code",
   "execution_count": 238,
   "metadata": {},
   "outputs": [
    {
     "name": "stdout",
     "output_type": "stream",
     "text": [
      "Help on class CaseGenerator in module simulator.generators:\n",
      "\n",
      "class CaseGenerator(builtins.object)\n",
      " |  CaseGenerator(model_name='llama3-8b', case_stem='', basic_details_example='', vitals_example='', physical_presentation_example='', challenging_question_example='', history_taking_example='')\n",
      " |  \n",
      " |  Generate clinical cases for dynamic testing of LLM models\n",
      " |  \n",
      " |  Methods defined here:\n",
      " |  \n",
      " |  __init__(self, model_name='llama3-8b', case_stem='', basic_details_example='', vitals_example='', physical_presentation_example='', challenging_question_example='', history_taking_example='')\n",
      " |      Initialize self.  See help(type(self)) for accurate signature.\n",
      " |  \n",
      " |  export_case(self, verbose=True, dir_name='Data/', file_name='1')\n",
      " |      Export generated case\n",
      " |  \n",
      " |  generate_basic_details(self)\n",
      " |      Generate basic details of clinical case\n",
      " |  \n",
      " |  generate_ddx(self)\n",
      " |      Generate Ddx based on details of clinical case\n",
      " |  \n",
      " |  generate_history(self)\n",
      " |      Generate history based on basic details of clinical case\n",
      " |  \n",
      " |  generate_investigations(self)\n",
      " |      Generate investigations based on details of clinical case\n",
      " |  \n",
      " |  generate_physical_exam(self)\n",
      " |      Generate physical exam based on details of clinical case\n",
      " |  \n",
      " |  initialize_environment(self)\n",
      " |      Load environment variables for LLM API calls\n",
      " |  \n",
      " |  select_model(self)\n",
      " |      Method selecting model for patient agent\n",
      " |  \n",
      " |  ----------------------------------------------------------------------\n",
      " |  Data descriptors defined here:\n",
      " |  \n",
      " |  __dict__\n",
      " |      dictionary for instance variables\n",
      " |  \n",
      " |  __weakref__\n",
      " |      list of weak references to the object\n",
      "\n",
      "None\n"
     ]
    }
   ],
   "source": [
    "print(help(simulator.generators.CaseGenerator))"
   ]
  },
  {
   "cell_type": "code",
   "execution_count": 239,
   "metadata": {},
   "outputs": [],
   "source": [
    "output = case_generator.generate_basic_details()"
   ]
  },
  {
   "cell_type": "code",
   "execution_count": 240,
   "metadata": {},
   "outputs": [
    {
     "data": {
      "text/plain": [
       "['Michael Green, a 52-year-old male, comes to the ED complaining of chest pain.',\n",
       " 'BP: 150/95 mm Hg\\nTemp: 99.1°F (37.3°C)\\nRR: 20/minute\\nHR: 88/minute, regular',\n",
       " None,\n",
       " '\"Could this be something serious? What should I do next?\"']"
      ]
     },
     "execution_count": 240,
     "metadata": {},
     "output_type": "execute_result"
    }
   ],
   "source": [
    "output"
   ]
  },
  {
   "cell_type": "code",
   "execution_count": 241,
   "metadata": {},
   "outputs": [],
   "source": [
    "output = case_generator.generate_history()"
   ]
  },
  {
   "cell_type": "code",
   "execution_count": 242,
   "metadata": {},
   "outputs": [
    {
     "data": {
      "text/plain": [
       "HistoryTakingChecklist(ChecklistItems=[HistoryTakingChecklistItem(question='Chief complaint', response='Chest pain'), HistoryTakingChecklistItem(question='Onset', response='Forty minutes ago'), HistoryTakingChecklistItem(question='Precipitating events', response='Nothing; I was sitting and suddenly felt the pain.'), HistoryTakingChecklistItem(question='Progression', response='Constant severity'), HistoryTakingChecklistItem(question='Severity on a scale of 1 to 10', response='My pain is 7 out of 10'), HistoryTakingChecklistItem(question='Location', response='Middle of the chest, feels like pressure.'), HistoryTakingChecklistItem(question='Radiation', response='To my left arm.'), HistoryTakingChecklistItem(question='Quality', response='Pressure, like something heavy on my chest.'), HistoryTakingChecklistItem(question='Alleviating / Exacerbating factors', response='None'), HistoryTakingChecklistItem(question='Shortness of breath', response='Yes, slightly labored.'), HistoryTakingChecklistItem(question='Nausea / Vomiting', response='No nausea or vomiting.'), HistoryTakingChecklistItem(question='Sweating', response='No sweating.'), HistoryTakingChecklistItem(question='Associated symptoms such as cough, wheezing, abdominal pain, diarrhea, constipation', response='None'), HistoryTakingChecklistItem(question='Previous episodes of similar pain', response='No, this is the first time.'), HistoryTakingChecklistItem(question='Current medications', response='None'), HistoryTakingChecklistItem(question='Past medical history', response='Hypertension for 5 years, treated with medication.'), HistoryTakingChecklistItem(question='Past surgical history', response='None'), HistoryTakingChecklistItem(question='Family history', response='Father had heart disease, mother is healthy.'), HistoryTakingChecklistItem(question='Occupation', response='Accountant'), HistoryTakingChecklistItem(question='Alcohol use', response='Occasionally, socially.'), HistoryTakingChecklistItem(question='Illicit drugs', response='No.'), HistoryTakingChecklistItem(question='Tobacco history', response='Smoked for 20 years, quit 2 years ago.'), HistoryTakingChecklistItem(question='Sexual history', response=\"No issues, but I haven't had sex in a while due to stress.\"), HistoryTakingChecklistItem(question='Exercise', response='I walk occasionally.'), HistoryTakingChecklistItem(question='Diet', response='I try to eat healthy, but I indulge sometimes.'), HistoryTakingChecklistItem(question='Drug Allergies', response='No.')])"
      ]
     },
     "execution_count": 242,
     "metadata": {},
     "output_type": "execute_result"
    }
   ],
   "source": [
    "output"
   ]
  },
  {
   "cell_type": "code",
   "execution_count": 243,
   "metadata": {},
   "outputs": [],
   "source": [
    "output = case_generator.generate_physical_exam()"
   ]
  },
  {
   "cell_type": "code",
   "execution_count": 244,
   "metadata": {},
   "outputs": [
    {
     "data": {
      "text/plain": [
       "PhysicalExamChecklist(ChecklistItems=[PhysicalExamChecklistItem(technique='Inspection of the chest', justification='To assess for any visible abnormalities, such as asymmetry, deformities, or signs of respiratory distress.'), PhysicalExamChecklistItem(technique='Palpation of the chest wall', justification='To identify any areas of tenderness, crepitus, or abnormal masses that may indicate underlying pathology.'), PhysicalExamChecklistItem(technique='Auscultation of heart sounds', justification='To evaluate for any abnormal heart sounds, murmurs, or signs of heart failure.'), PhysicalExamChecklistItem(technique='Auscultation of lung sounds', justification='To check for any abnormal breath sounds, such as wheezing or crackles, which may indicate respiratory issues.'), PhysicalExamChecklistItem(technique='Assessment of peripheral pulses', justification='To evaluate circulation and check for any signs of peripheral vascular disease.'), PhysicalExamChecklistItem(technique='Blood pressure measurement in both arms', justification='To assess for any significant differences that may indicate vascular issues.'), PhysicalExamChecklistItem(technique='Examination of the abdomen', justification='To rule out any referred pain from abdominal organs that may mimic cardiac pain.'), PhysicalExamChecklistItem(technique='Assessment of jugular venous pressure (JVP)', justification='To evaluate for signs of heart failure or fluid overload.'), PhysicalExamChecklistItem(technique='Neurological examination of the upper extremities', justification='To assess for any neurological deficits that may indicate a stroke or other neurological condition.'), PhysicalExamChecklistItem(technique='Skin examination', justification='To check for diaphoresis or any signs of cyanosis that may indicate cardiovascular distress.')])"
      ]
     },
     "execution_count": 244,
     "metadata": {},
     "output_type": "execute_result"
    }
   ],
   "source": [
    "output"
   ]
  },
  {
   "cell_type": "code",
   "execution_count": 245,
   "metadata": {},
   "outputs": [],
   "source": [
    "output = case_generator.generate_investigations()"
   ]
  },
  {
   "cell_type": "code",
   "execution_count": 246,
   "metadata": {},
   "outputs": [
    {
     "data": {
      "text/plain": [
       "InvestigationsChecklist(ChecklistItems=[InvestigationsChecklistItem(investigation='Electrocardiogram (ECG)', justification='To assess for any ischemic changes or arrhythmias that may indicate myocardial infarction or other cardiac issues.'), InvestigationsChecklistItem(investigation='Cardiac biomarkers (e.g., Troponin I or T)', justification='To evaluate for myocardial injury or infarction, especially given the chest pain and risk factors.'), InvestigationsChecklistItem(investigation='Chest X-ray', justification='To rule out other causes of chest pain such as pneumothorax, pneumonia, or aortic dissection.'), InvestigationsChecklistItem(investigation='Complete blood count (CBC)', justification=\"To check for signs of infection or anemia that could contribute to the patient's symptoms.\"), InvestigationsChecklistItem(investigation='Basic metabolic panel (BMP)', justification='To assess electrolyte levels, renal function, and glucose, which can impact cardiac function.'), InvestigationsChecklistItem(investigation='Lipid profile', justification=\"To evaluate cardiovascular risk factors, especially given the patient's history of hypertension and family history of heart disease.\"), InvestigationsChecklistItem(investigation='Chest CT angiography (if indicated)', justification='To rule out pulmonary embolism or aortic dissection if the clinical suspicion is high.'), InvestigationsChecklistItem(investigation='Echocardiogram (if indicated)', justification='To assess cardiac function and structure, especially if there are concerns about heart failure or valvular disease.')])"
      ]
     },
     "execution_count": 246,
     "metadata": {},
     "output_type": "execute_result"
    }
   ],
   "source": [
    "output"
   ]
  },
  {
   "cell_type": "code",
   "execution_count": 247,
   "metadata": {},
   "outputs": [],
   "source": [
    "output = case_generator.generate_ddx()"
   ]
  },
  {
   "cell_type": "code",
   "execution_count": 248,
   "metadata": {},
   "outputs": [
    {
     "data": {
      "text/plain": [
       "DdxChecklist(ChecklistItems=[DdxChecklistItem(diagnosis='Acute Coronary Syndrome (ACS)', justification=\"The patient's chest pain is characteristic of angina, with pressure-like quality, radiation to the left arm, and risk factors including hypertension and a history of smoking.\"), DdxChecklistItem(diagnosis='Pulmonary Embolism (PE)', justification='The patient presents with chest pain and slight labored breathing, which could indicate a PE, especially given the sudden onset of symptoms.'), DdxChecklistItem(diagnosis='Aortic Dissection', justification='The severe chest pain with radiation could suggest an aortic dissection, particularly in a middle-aged male with hypertension.'), DdxChecklistItem(diagnosis='Gastroesophageal Reflux Disease (GERD)', justification='Although less likely given the presentation, GERD can cause chest pain that mimics cardiac pain, especially if there are no other alarming features.'), DdxChecklistItem(diagnosis='Pneumothorax', justification='The labored breathing and chest pain could indicate a pneumothorax, particularly if there is a history of recent trauma or underlying lung disease.'), DdxChecklistItem(diagnosis='Costochondritis', justification='This musculoskeletal condition can cause localized chest pain, but the radiation to the left arm and pressure-like quality makes it less likely.'), DdxChecklistItem(diagnosis='Myocardial Infarction (MI)', justification=\"Given the patient's risk factors and symptomatology, an MI must be considered as a potential cause of the chest pain.\"), DdxChecklistItem(diagnosis='Anxiety/Panic Attack', justification=\"The patient's anxiety and presentation could suggest a panic attack, which can present with chest pain and labored breathing.\")])"
      ]
     },
     "execution_count": 248,
     "metadata": {},
     "output_type": "execute_result"
    }
   ],
   "source": [
    "output"
   ]
  },
  {
   "cell_type": "code",
   "execution_count": 249,
   "metadata": {},
   "outputs": [
    {
     "name": "stdout",
     "output_type": "stream",
     "text": [
      ">>> Exporting basic details\n",
      ">>> Exporting history\n",
      ">>> Exporting Physical Exam\n",
      ">>> Exporting Investigations\n",
      ">>> Exporting Differential Diagnosis\n"
     ]
    }
   ],
   "source": [
    "case_generator.export_case(file_name=\"2\")"
   ]
  },
  {
   "cell_type": "code",
   "execution_count": 192,
   "metadata": {},
   "outputs": [],
   "source": [
    "import pandas as pd\n",
    "\n",
    "case_number = 1\n",
    "\n",
    "details_df = pd.DataFrame()\n",
    "details_df.at[0, 'Basic details'] = case_generator.basic_details\n",
    "details_df.at[0, 'Vitals'] = case_generator.vitals\n",
    "details_df.at[0, 'Physical presentation'] = case_generator.physical_presentation\n",
    "details_df.at[0, 'Challenging question'] = case_generator.challenging_question\n",
    "details_df.to_csv(\"Data/details/\" + str(case_number) + \".csv\")\n"
   ]
  },
  {
   "cell_type": "code",
   "execution_count": 193,
   "metadata": {},
   "outputs": [],
   "source": [
    "columns = [\"Question\", \"Patient Response\"]\n",
    "history_df = pd.DataFrame(columns=columns)\n",
    "\n",
    "for item in case_generator.history.ChecklistItems:\n",
    "  history_df = pd.concat(\n",
    "    [\n",
    "      history_df,\n",
    "      pd.DataFrame(\n",
    "        [[\n",
    "          item.question, item.response\n",
    "        ]], columns=columns)\n",
    "    ]\n",
    "  )\n",
    "\n",
    "history_df.reset_index(drop=True)\n",
    "history_df.to_csv(\"Data/history/\" + str(case_number) + \".csv\")"
   ]
  },
  {
   "cell_type": "code",
   "execution_count": 191,
   "metadata": {},
   "outputs": [],
   "source": [
    "columns = [\"Physical Exam\", \"Justification\"]\n",
    "physical_exam_df = pd.DataFrame(columns=columns)\n",
    "\n",
    "for item in case_generator.physical_exam.ChecklistItems:\n",
    "  physical_exam_df = pd.concat(\n",
    "    [\n",
    "      physical_exam_df,\n",
    "      pd.DataFrame(\n",
    "        [[\n",
    "          item.technique, item.justification\n",
    "        ]], columns=columns)\n",
    "    ]\n",
    "  )\n",
    "\n",
    "physical_exam_df.reset_index(drop=True)\n",
    "physical_exam_df.to_csv(\"Data/physical/\" + str(case_number) + \".csv\")"
   ]
  },
  {
   "cell_type": "code",
   "execution_count": 190,
   "metadata": {},
   "outputs": [],
   "source": [
    "columns = [\"Investigations\", \"Justification\"]\n",
    "investigations_df = pd.DataFrame(columns=columns)\n",
    "\n",
    "for item in case_generator.investigations.ChecklistItems:\n",
    "  investigations_df = pd.concat(\n",
    "    [\n",
    "      investigations_df,\n",
    "      pd.DataFrame(\n",
    "        [[item.investigation, item.justification\n",
    "          ]], columns=columns)\n",
    "    ]\n",
    "  )\n",
    "\n",
    "investigations_df.reset_index(drop=True)\n",
    "investigations_df.to_csv(\"Data/investigations/\" + str(case_number) + \".csv\")"
   ]
  },
  {
   "cell_type": "code",
   "execution_count": null,
   "metadata": {},
   "outputs": [],
   "source": [
    "columns = [\"Diagnosis\", \"Justification\"]\n",
    "diagnoses_df = pd.DataFrame(columns=columns)\n",
    "\n",
    "for item in case_generator.ddx.ChecklistItems:\n",
    "  diagnoses_df = pd.concat([\n",
    "    diagnoses_df,\n",
    "    pd.DataFrame(\n",
    "      [[\n",
    "        item.diagnosis, item.justification\n",
    "      ]], columns=columns)\n",
    "  ])\n",
    "\n",
    "diagnoses_df.reset_index(drop=True)\n",
    "diagnoses_df.to_csv(\"Data/diagnosis/\" + str(case_number) + \".csv\")"
   ]
  }
 ],
 "metadata": {
  "kernelspec": {
   "display_name": "medbot",
   "language": "python",
   "name": "python3"
  },
  "language_info": {
   "codemirror_mode": {
    "name": "ipython",
    "version": 3
   },
   "file_extension": ".py",
   "mimetype": "text/x-python",
   "name": "python",
   "nbconvert_exporter": "python",
   "pygments_lexer": "ipython3",
   "version": "3.11.9"
  }
 },
 "nbformat": 4,
 "nbformat_minor": 2
}
