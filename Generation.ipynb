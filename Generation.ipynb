{
 "cells": [
  {
   "cell_type": "markdown",
   "metadata": {},
   "source": [
    "# Generate structured cases for the following scenarios\n",
    "\n",
    "1. 52 year old man comes to ED complaining of chest pain\n",
    "2. 45 year old man comes to outpatient clinic complaining of bloody urine\n",
    "3. 49 year old man comes to clinic complaining of back pain \n",
    "4. 28 year old man walks into ED after a motor vehicle accident\n",
    "5. 32 year old woman walks into clinic with a positive pregnancy test\n",
    "6. 11 year old girl comes to clinic with an elevated glucose test from school nurse\n",
    "7. 69 year old man complains of left arm pain\n",
    "8. 63 year old woman comes back to clinic for follow-up of diabetes\n",
    "9. 28 year old lady comes to ED after sexual assault\n",
    "10. 40 year old woman complains of right calf pain\n",
    "11. 65 year old man presents with new onset hoarseness of voice\n",
    "12. 70 year old lady presenting to clinic with neck pain\n",
    "13. 55 year old female admitted to ED for abdominal pain\n",
    "14. 38 year old woman presents to clinic with headache\n",
    "15. 35 year old lady complains of irregular menses\n",
    "16. 24 year old young female presents to clinic with regular pain during sex\n",
    "17. 80 year old elderly gentleman complaining of hearing loss\n",
    "18. 5 year old girl coming in to clinic with jaundice\n",
    "19. 8 month old boy presents to ED with fever\n",
    "20. 22 year old young gentleman presents to clinic with cough\n",
    "21. 49 year old lady presenting to clinic with jaundice\n",
    "22. 55 year old male complains of dizziness\n",
    "23. 35 year old young lady presenting to the clinic with knee pain\n",
    "24. 28 year old young man complains of heel pain\n",
    "25. 19 month old girl presenting to clinic with fever\n",
    "26. 58 year old woman complains of chronic cough\n",
    "27. 59 year old man complains of chronic fatigue\n",
    "28. 61 year old man comes to clinic for followup on hypertension\n",
    "29. 23 year old young lady complains of sleeping issues\n",
    "30. 2 year old girl presents to clinic with persistent noisy breathing\n",
    "31. 24 year old woman presents to ED with abdominal pain\n",
    "32. 68 year old elderly lady complaining of forgetfulness and disorientation\n",
    "33. 49 year old man came to clinic complaining of fatigue\n",
    "34. 32 year old young lady presents to clinic with fatigue\n",
    "35. 26 year old man complains of visual and auditory hallucinations\n",
    "36. 29 year old woman presents in clinic for pre employment physical\n",
    "37. 59 year old man presents to ED with bloody stools\n",
    "38. 61 year old man presents to clinic with tremors and walking problems\n",
    "39. 32 year old young woman came to clinic with weight gain\n",
    "40. 5 month old girl presents to ED with multiple episodes of diarrhoea\n",
    "41. 7 year old boy presents to clinic with bed wetting\n",
    "42. 13 month old girl presents to ED with seizures\n",
    "43. 25 year old man complains of sore throat\n",
    "44. 54 year old man presents to ED with fall and loss of consciousness"
   ]
  },
  {
   "cell_type": "code",
   "execution_count": 1,
   "metadata": {},
   "outputs": [],
   "source": [
    "import pandas as pd\n",
    "\n",
    "details = pd.read_excel(\"Data/BaseCase.xlsx\", sheet_name=\"Details\")\n",
    "history = pd.read_excel(\"Data/BaseCase.xlsx\", sheet_name=\"History Taking\", keep_default_na=False)\n",
    "physical = pd.read_excel(\"Data/BaseCase.xlsx\", sheet_name=\"Physical Examination\")\n",
    "diagnosis = pd.read_excel(\"Data/BaseCase.xlsx\", sheet_name=\"Differential Diagnosis\")\n",
    "Investigations = pd.read_excel(\"Data/BaseCase.xlsx\", sheet_name=\"Investigations\")"
   ]
  },
  {
   "cell_type": "code",
   "execution_count": 169,
   "metadata": {},
   "outputs": [],
   "source": [
    "from importlib import reload\n",
    "import simulator\n",
    "reload(simulator.generators)\n",
    "\n",
    "history_taking_example = \"\\n\".join(\n",
    "  [f\"Question: {row['Question']} | Response: {row['Patient Response']}\"\n",
    "    for index, row in history.iterrows()])\n",
    "\n",
    "case_generator = simulator.generators.CaseGenerator(\n",
    "  model_name=\"gpt-4o\",\n",
    "  case_stem = \"28 year old young man complains of heel pain\",\n",
    "  basic_details_example= details[\"Case Prompt\"].values[0],\n",
    "  vitals_example = details[\"Vitals\"].values[0],\n",
    "  physical_presentation_example = details[\"Physical presentation\"].values[0],\n",
    "  challenging_question_example = details[\"Challenging Questions to Ask\"].values[0],\n",
    "  history_taking_example = history_taking_example\n",
    ")"
   ]
  },
  {
   "cell_type": "code",
   "execution_count": 170,
   "metadata": {},
   "outputs": [],
   "source": [
    "output = case_generator.generate_basic_details()"
   ]
  },
  {
   "cell_type": "code",
   "execution_count": 171,
   "metadata": {},
   "outputs": [
    {
     "data": {
      "text/plain": [
       "['Emily Carter, a 35-year-old female, presents to the clinic complaining of knee pain.',\n",
       " 'BP: 120/80 mm Hg\\nTemp: 98.4°F (36.9°C)\\nRR: 18/minute\\nHR: 78/minute, regular',\n",
       " None,\n",
       " '\"Could this be something serious like arthritis or will it go away on its own?\"']"
      ]
     },
     "execution_count": 171,
     "metadata": {},
     "output_type": "execute_result"
    }
   ],
   "source": [
    "output"
   ]
  },
  {
   "cell_type": "code",
   "execution_count": 172,
   "metadata": {},
   "outputs": [],
   "source": [
    "output = case_generator.generate_history()"
   ]
  },
  {
   "cell_type": "code",
   "execution_count": 173,
   "metadata": {},
   "outputs": [
    {
     "data": {
      "text/plain": [
       "HistoryTakingChecklist(ChecklistItems=[HistoryTakingChecklistItem(question='Chief complaint', response='Knee pain'), HistoryTakingChecklistItem(question='Onset', response='Started two days ago after a minor fall during a hiking trip'), HistoryTakingChecklistItem(question='Location', response='Right knee'), HistoryTakingChecklistItem(question='Quality', response='Aching and sometimes sharp when moving'), HistoryTakingChecklistItem(question='Severity on a scale of 1 to 10', response='5 out of 10'), HistoryTakingChecklistItem(question='Radiation', response='No radiation'), HistoryTakingChecklistItem(question='Alleviating factors', response='Rest and keeping the leg elevated'), HistoryTakingChecklistItem(question='Exacerbating factors', response='Walking, bending, or putting weight on the knee'), HistoryTakingChecklistItem(question='Associated symptoms', response='Slight swelling and stiffness'), HistoryTakingChecklistItem(question='Previous episodes of similar pain', response='No'), HistoryTakingChecklistItem(question='Current medications', response='Occasional ibuprofen for pain'), HistoryTakingChecklistItem(question='Past medical history', response='No significant medical history'), HistoryTakingChecklistItem(question='Past surgical history', response='None'), HistoryTakingChecklistItem(question='Family history', response='No family history of joint problems'), HistoryTakingChecklistItem(question='Occupation', response='Office worker'), HistoryTakingChecklistItem(question='Exercise', response='Regularly hikes and does yoga'), HistoryTakingChecklistItem(question='Alcohol use', response='Socially, about once a week'), HistoryTakingChecklistItem(question='Illicit drugs', response='None'), HistoryTakingChecklistItem(question='Tobacco history', response='Never smoked'), HistoryTakingChecklistItem(question='Diet', response='Balanced diet, mostly home-cooked meals'), HistoryTakingChecklistItem(question='Drug Allergies', response='None')])"
      ]
     },
     "execution_count": 173,
     "metadata": {},
     "output_type": "execute_result"
    }
   ],
   "source": [
    "output"
   ]
  },
  {
   "cell_type": "code",
   "execution_count": 174,
   "metadata": {},
   "outputs": [
    {
     "name": "stdout",
     "output_type": "stream",
     "text": [
      "Chief complaint\n",
      "Knee pain\n",
      "\n",
      "Onset\n",
      "Started two days ago after a minor fall during a hiking trip\n",
      "\n",
      "Location\n",
      "Right knee\n",
      "\n",
      "Quality\n",
      "Aching and sometimes sharp when moving\n",
      "\n",
      "Severity on a scale of 1 to 10\n",
      "5 out of 10\n",
      "\n",
      "Radiation\n",
      "No radiation\n",
      "\n",
      "Alleviating factors\n",
      "Rest and keeping the leg elevated\n",
      "\n",
      "Exacerbating factors\n",
      "Walking, bending, or putting weight on the knee\n",
      "\n",
      "Associated symptoms\n",
      "Slight swelling and stiffness\n",
      "\n",
      "Previous episodes of similar pain\n",
      "No\n",
      "\n",
      "Current medications\n",
      "Occasional ibuprofen for pain\n",
      "\n",
      "Past medical history\n",
      "No significant medical history\n",
      "\n",
      "Past surgical history\n",
      "None\n",
      "\n",
      "Family history\n",
      "No family history of joint problems\n",
      "\n",
      "Occupation\n",
      "Office worker\n",
      "\n",
      "Exercise\n",
      "Regularly hikes and does yoga\n",
      "\n",
      "Alcohol use\n",
      "Socially, about once a week\n",
      "\n",
      "Illicit drugs\n",
      "None\n",
      "\n",
      "Tobacco history\n",
      "Never smoked\n",
      "\n",
      "Diet\n",
      "Balanced diet, mostly home-cooked meals\n",
      "\n",
      "Drug Allergies\n",
      "None\n",
      "\n"
     ]
    }
   ],
   "source": [
    "for item in output.ChecklistItems:\n",
    "  print(item.question)\n",
    "  print(item.response)\n",
    "  print()"
   ]
  },
  {
   "cell_type": "code",
   "execution_count": 175,
   "metadata": {},
   "outputs": [],
   "source": [
    "output = case_generator.generate_physical_exam()"
   ]
  },
  {
   "cell_type": "code",
   "execution_count": 176,
   "metadata": {},
   "outputs": [
    {
     "data": {
      "text/plain": [
       "PhysicalExamChecklist(ChecklistItems=[PhysicalExamChecklistItem(technique='Inspection of the knee', justification='To visually assess for swelling, redness, or deformity in the right knee.'), PhysicalExamChecklistItem(technique='Palpation of the knee', justification='To check for warmth, tenderness, or any palpable abnormalities such as effusion or crepitus.'), PhysicalExamChecklistItem(technique='Range of motion assessment', justification='To evaluate the extent of movement and identify any limitations or pain during flexion and extension of the knee.'), PhysicalExamChecklistItem(technique='Lachman test', justification='To assess the integrity of the anterior cruciate ligament (ACL) which could be affected due to the fall.'), PhysicalExamChecklistItem(technique='McMurray test', justification='To evaluate for meniscal tears, which could be a result of the twisting injury during the fall.'), PhysicalExamChecklistItem(technique='Varus and Valgus stress tests', justification='To assess the integrity of the lateral and medial collateral ligaments, respectively.'), PhysicalExamChecklistItem(technique='Patellar tap test', justification='To check for the presence of a knee effusion.'), PhysicalExamChecklistItem(technique='Gait analysis', justification=\"To observe the patient's walking pattern and identify any limping or compensatory mechanisms due to knee pain.\"), PhysicalExamChecklistItem(technique='Examination of the contralateral knee', justification='To compare with the affected knee and identify any asymmetries or differences.'), PhysicalExamChecklistItem(technique='Neurovascular examination of the lower limb', justification='To ensure there is no neurovascular compromise associated with the knee injury.')])"
      ]
     },
     "execution_count": 176,
     "metadata": {},
     "output_type": "execute_result"
    }
   ],
   "source": [
    "output"
   ]
  },
  {
   "cell_type": "code",
   "execution_count": 177,
   "metadata": {},
   "outputs": [],
   "source": [
    "output = case_generator.generate_investigations()"
   ]
  },
  {
   "cell_type": "code",
   "execution_count": 178,
   "metadata": {},
   "outputs": [
    {
     "data": {
      "text/plain": [
       "InvestigationsChecklist(ChecklistItems=[InvestigationsChecklistItem(investigation='X-ray of the right knee', justification='To assess for any fractures or bone abnormalities following the fall.'), InvestigationsChecklistItem(investigation='MRI of the right knee', justification='To evaluate soft tissue structures such as ligaments, tendons, and menisci for any tears or injuries.'), InvestigationsChecklistItem(investigation='Ultrasound of the right knee', justification='To assess for any effusion or soft tissue abnormalities, especially if MRI is not immediately available.'), InvestigationsChecklistItem(investigation='Blood tests (CBC, ESR, CRP)', justification='To rule out any underlying inflammatory or infectious process contributing to the knee pain and swelling.')])"
      ]
     },
     "execution_count": 178,
     "metadata": {},
     "output_type": "execute_result"
    }
   ],
   "source": [
    "output"
   ]
  },
  {
   "cell_type": "code",
   "execution_count": 179,
   "metadata": {},
   "outputs": [],
   "source": [
    "output = case_generator.generate_ddx()"
   ]
  },
  {
   "cell_type": "code",
   "execution_count": 180,
   "metadata": {},
   "outputs": [
    {
     "data": {
      "text/plain": [
       "DdxChecklist(ChecklistItems=[DdxChecklistItem(diagnosis='Knee Sprain or Strain', justification='The patient reports knee pain following a minor fall, with symptoms of aching and sharp pain upon movement, as well as slight swelling and stiffness. These are common symptoms of a knee sprain or strain, which can occur due to overstretching or tearing of ligaments or muscles around the knee.'), DdxChecklistItem(diagnosis='Meniscal Tear', justification='The mechanism of injury (a fall during hiking) and the symptoms of pain, swelling, and stiffness suggest the possibility of a meniscal tear, which is a common knee injury that can occur with twisting or impact.'), DdxChecklistItem(diagnosis='Patellar Tendinitis', justification=\"The patient's regular hiking and yoga activities, combined with the recent fall, could lead to patellar tendinitis, characterized by pain and discomfort in the knee, especially when bending or putting weight on it.\"), DdxChecklistItem(diagnosis='Knee Contusion', justification='The minor fall could have caused a knee contusion, which is a bruise of the knee tissue, leading to pain, swelling, and stiffness.'), DdxChecklistItem(diagnosis='Anterior Cruciate Ligament (ACL) Injury', justification='Although less likely without a more significant trauma, an ACL injury could still be considered due to the mechanism of injury and the symptoms of pain and difficulty with weight-bearing activities.')])"
      ]
     },
     "execution_count": 180,
     "metadata": {},
     "output_type": "execute_result"
    }
   ],
   "source": [
    "output"
   ]
  },
  {
   "cell_type": "code",
   "execution_count": 181,
   "metadata": {},
   "outputs": [
    {
     "name": "stdout",
     "output_type": "stream",
     "text": [
      ">>> Exporting basic details\n",
      ">>> Exporting history\n",
      ">>> Exporting Physical Exam\n",
      ">>> Exporting Investigations\n",
      ">>> Exporting Differential Diagnosis\n"
     ]
    }
   ],
   "source": [
    "case_generator.export_case(file_name=\"23\")"
   ]
  }
 ],
 "metadata": {
  "kernelspec": {
   "display_name": "medbot",
   "language": "python",
   "name": "python3"
  },
  "language_info": {
   "codemirror_mode": {
    "name": "ipython",
    "version": 3
   },
   "file_extension": ".py",
   "mimetype": "text/x-python",
   "name": "python",
   "nbconvert_exporter": "python",
   "pygments_lexer": "ipython3",
   "version": "3.11.9"
  }
 },
 "nbformat": 4,
 "nbformat_minor": 2
}
