{
 "cells": [
  {
   "cell_type": "code",
   "execution_count": 196,
   "metadata": {},
   "outputs": [],
   "source": [
    "import pandas as pd\n",
    "\n",
    "details = pd.read_excel(\"Data/Case_1.xlsx\", sheet_name=\"Details\")\n",
    "history = pd.read_excel(\"Data/Case_1.xlsx\", sheet_name=\"History Taking\", keep_default_na=False)\n",
    "physical = pd.read_excel(\"Data/Case_1.xlsx\", sheet_name=\"Physical Examination\")\n",
    "diagnosis = pd.read_excel(\"Data/Case_1.xlsx\", sheet_name=\"Differential Diagnosis\")\n",
    "Investigations = pd.read_excel(\"Data/Case_1.xlsx\", sheet_name=\"Investigations\")"
   ]
  },
  {
   "cell_type": "code",
   "execution_count": 224,
   "metadata": {},
   "outputs": [],
   "source": [
    "\n",
    "from importlib import reload\n",
    "import simulator\n",
    "reload(simulator.generators)\n",
    "\n",
    "history_taking_example = \"\\n\".join(\n",
    "  [f\"Question: {row['Question']} | Response: {row['Patient Response']}\"\n",
    "    for index, row in history.iterrows()])\n",
    "\n",
    "case_generator = simulator.generators.CaseGenerator(\n",
    "  model_name=\"gpt-4o-mini\",\n",
    "  case_stem = \"Man comes to ED complaining of chest pain\",\n",
    "  basic_details_example= details[\"Case Prompt\"].values[0],\n",
    "  vitals_example = details[\"Vitals\"].values[0],\n",
    "  physical_presentation_example = details[\"Physical presentation\"].values[0],\n",
    "  challenging_question_example = details[\"Challenging Questions to Ask\"].values[0],\n",
    "  history_taking_example = history_taking_example\n",
    ")"
   ]
  },
  {
   "cell_type": "code",
   "execution_count": 225,
   "metadata": {},
   "outputs": [
    {
     "name": "stdout",
     "output_type": "stream",
     "text": [
      "Help on class CaseGenerator in module simulator.generators:\n",
      "\n",
      "class CaseGenerator(builtins.object)\n",
      " |  CaseGenerator(model_name='llama3-8b', case_stem='', basic_details_example='', vitals_example='', physical_presentation_example='', challenging_question_example='', history_taking_example='')\n",
      " |  \n",
      " |  Generate clinical cases for dynamic testing of LLM models\n",
      " |  \n",
      " |  Methods defined here:\n",
      " |  \n",
      " |  __init__(self, model_name='llama3-8b', case_stem='', basic_details_example='', vitals_example='', physical_presentation_example='', challenging_question_example='', history_taking_example='')\n",
      " |      Initialize self.  See help(type(self)) for accurate signature.\n",
      " |  \n",
      " |  export_case(self, verbose=True, dir_name='Data/', file_name='1')\n",
      " |      Export generated case\n",
      " |  \n",
      " |  generate_basic_details(self)\n",
      " |      Generate basic details of clinical case\n",
      " |  \n",
      " |  generate_ddx(self)\n",
      " |      Generate Ddx based on details of clinical case\n",
      " |  \n",
      " |  generate_history(self)\n",
      " |      Generate history based on basic details of clinical case\n",
      " |  \n",
      " |  generate_investigations(self)\n",
      " |      Generate investigations based on details of clinical case\n",
      " |  \n",
      " |  generate_physical_exam(self)\n",
      " |      Generate physical exam based on details of clinical case\n",
      " |  \n",
      " |  initialize_environment(self)\n",
      " |      Load environment variables for LLM API calls\n",
      " |  \n",
      " |  select_model(self)\n",
      " |      Method selecting model for patient agent\n",
      " |  \n",
      " |  ----------------------------------------------------------------------\n",
      " |  Data descriptors defined here:\n",
      " |  \n",
      " |  __dict__\n",
      " |      dictionary for instance variables\n",
      " |  \n",
      " |  __weakref__\n",
      " |      list of weak references to the object\n",
      "\n",
      "None\n"
     ]
    }
   ],
   "source": [
    "print(help(simulator.generators.CaseGenerator))"
   ]
  },
  {
   "cell_type": "code",
   "execution_count": 226,
   "metadata": {},
   "outputs": [],
   "source": [
    "output = case_generator.generate_basic_details()"
   ]
  },
  {
   "cell_type": "code",
   "execution_count": 227,
   "metadata": {},
   "outputs": [
    {
     "data": {
      "text/plain": [
       "['Michael Green, a 52-year-old male, comes to the ED complaining of chest pain.',\n",
       " 'BP: 150/95 mm Hg\\nTemp: 99.1°F (37.3°C)\\nRR: 20/minute\\nHR: 88/minute, regular',\n",
       " None,\n",
       " \"'Could this be something serious? What should I do next?'\"]"
      ]
     },
     "execution_count": 227,
     "metadata": {},
     "output_type": "execute_result"
    }
   ],
   "source": [
    "output"
   ]
  },
  {
   "cell_type": "code",
   "execution_count": 228,
   "metadata": {},
   "outputs": [],
   "source": [
    "output = case_generator.generate_history()"
   ]
  },
  {
   "cell_type": "code",
   "execution_count": 229,
   "metadata": {},
   "outputs": [
    {
     "data": {
      "text/plain": [
       "HistoryTakingChecklist(ChecklistItems=[HistoryTakingChecklistItem(question='Chief complaint', response='Chest pain'), HistoryTakingChecklistItem(question='Onset', response='Forty minutes ago'), HistoryTakingChecklistItem(question='Precipitating events', response='Nothing; I was sitting and suddenly felt this pain.'), HistoryTakingChecklistItem(question='Progression', response='Constant severity'), HistoryTakingChecklistItem(question='Severity on a scale of 1 to 10', response='My pain is 8 out of 10'), HistoryTakingChecklistItem(question='Location', response='Center of the chest, feels tight.'), HistoryTakingChecklistItem(question='Radiation', response='To my left arm and jaw.'), HistoryTakingChecklistItem(question='Quality', response='Tightness, like a band around my chest.'), HistoryTakingChecklistItem(question='Alleviating / Exacerbating factors', response='Nothing seems to help.'), HistoryTakingChecklistItem(question='Shortness of breath', response='Yes, I feel a bit short of breath.'), HistoryTakingChecklistItem(question='Nausea / Vomiting', response='No nausea or vomiting.'), HistoryTakingChecklistItem(question='Sweating', response='Yes, I am sweating a lot.'), HistoryTakingChecklistItem(question='Associated symptoms such as cough, wheezing, abdominal pain, diarrhea, constipation', response='No associated symptoms.'), HistoryTakingChecklistItem(question='Previous episodes of similar pain', response='Yes, but not as severe.'), HistoryTakingChecklistItem(question='Onset of previous episode', response='About 6 months ago.'), HistoryTakingChecklistItem(question='Severity of previous episode', response='Less severe, around 5 out of 10.'), HistoryTakingChecklistItem(question='Frequency of previous episodes', response='Maybe once a month.'), HistoryTakingChecklistItem(question='Precipitating events for previous episodes', response='Usually after heavy meals or stress.'), HistoryTakingChecklistItem(question='Alleviating factors for previous episodes', response='Resting helps.'), HistoryTakingChecklistItem(question='Associated symptoms', response='None.'), HistoryTakingChecklistItem(question='Current medications', response='I take medication for high blood pressure.'), HistoryTakingChecklistItem(question='Past medical history', response='Hypertension for 10 years, high cholesterol.'), HistoryTakingChecklistItem(question='Past surgical history', response='No surgeries.'), HistoryTakingChecklistItem(question='Family history', response='Father had a heart attack at 65, mother has diabetes.'), HistoryTakingChecklistItem(question='Occupation', response='Sales manager.'), HistoryTakingChecklistItem(question='Alcohol use', response='Socially, maybe once a week.'), HistoryTakingChecklistItem(question='Illicit drugs', response='No.'), HistoryTakingChecklistItem(question='Tobacco history', response='I smoked for 30 years, but I quit 2 years ago.'), HistoryTakingChecklistItem(question='Duration of tobacco use', response='30 years.'), HistoryTakingChecklistItem(question='Sexual history', response=\"No issues, but I haven't been very active lately.\"), HistoryTakingChecklistItem(question='Exercise', response='I try to walk a few times a week.'), HistoryTakingChecklistItem(question='Diet', response='I try to eat healthy, but I indulge sometimes.'), HistoryTakingChecklistItem(question='Drug Allergies', response='No known drug allergies.')])"
      ]
     },
     "execution_count": 229,
     "metadata": {},
     "output_type": "execute_result"
    }
   ],
   "source": [
    "output"
   ]
  },
  {
   "cell_type": "code",
   "execution_count": 230,
   "metadata": {},
   "outputs": [],
   "source": [
    "output = case_generator.generate_physical_exam()"
   ]
  },
  {
   "cell_type": "code",
   "execution_count": 231,
   "metadata": {},
   "outputs": [
    {
     "data": {
      "text/plain": [
       "PhysicalExamChecklist(ChecklistItems=[PhysicalExamChecklistItem(technique='Inspection of the chest', justification='To assess for any visible abnormalities, such as asymmetry, deformities, or signs of respiratory distress.'), PhysicalExamChecklistItem(technique='Palpation of the chest wall', justification='To identify any areas of tenderness, crepitus, or abnormal masses that may indicate underlying pathology.'), PhysicalExamChecklistItem(technique='Auscultation of heart sounds', justification='To evaluate for any abnormal heart sounds, murmurs, or signs of ischemia.'), PhysicalExamChecklistItem(technique='Auscultation of lung sounds', justification='To check for any abnormal breath sounds, such as wheezing or crackles, which may indicate respiratory issues.'), PhysicalExamChecklistItem(technique='Assessment of peripheral pulses', justification='To evaluate circulation and check for any signs of peripheral vascular disease.'), PhysicalExamChecklistItem(technique='Blood pressure measurement in both arms', justification='To assess for any significant differences that may indicate vascular issues.'), PhysicalExamChecklistItem(technique='Examination of the extremities for edema or cyanosis', justification='To check for signs of heart failure or poor circulation.'), PhysicalExamChecklistItem(technique='Assessment of jugular venous pressure (JVP)', justification='To evaluate for signs of heart failure or fluid overload.'), PhysicalExamChecklistItem(technique='Abdominal examination', justification='To rule out any referred pain from abdominal organs, especially given the history of previous episodes after heavy meals.'), PhysicalExamChecklistItem(technique='Neurological examination of the upper extremities', justification='To assess for any neurological deficits that may indicate a more serious condition, such as a stroke.')])"
      ]
     },
     "execution_count": 231,
     "metadata": {},
     "output_type": "execute_result"
    }
   ],
   "source": [
    "output"
   ]
  },
  {
   "cell_type": "code",
   "execution_count": 232,
   "metadata": {},
   "outputs": [],
   "source": [
    "output = case_generator.generate_investigations()"
   ]
  },
  {
   "cell_type": "code",
   "execution_count": 233,
   "metadata": {},
   "outputs": [
    {
     "data": {
      "text/plain": [
       "InvestigationsChecklist(ChecklistItems=[InvestigationsChecklistItem(investigation='Electrocardiogram (ECG)', justification='To assess for any ischemic changes or arrhythmias that may indicate acute coronary syndrome.'), InvestigationsChecklistItem(investigation='Cardiac biomarkers (e.g., troponin I or T)', justification=\"To evaluate for myocardial injury or infarction, especially given the patient's chest pain and risk factors.\"), InvestigationsChecklistItem(investigation='Chest X-ray', justification='To rule out other causes of chest pain such as pneumothorax, pneumonia, or aortic dissection.'), InvestigationsChecklistItem(investigation='Complete blood count (CBC)', justification=\"To check for signs of infection or anemia that could contribute to the patient's symptoms.\"), InvestigationsChecklistItem(investigation='Basic metabolic panel (BMP)', justification='To assess electrolyte levels, renal function, and glucose, which can impact cardiac function.'), InvestigationsChecklistItem(investigation='Lipid profile', justification=\"To evaluate the patient's cholesterol levels given his history of high cholesterol and cardiovascular risk.\"), InvestigationsChecklistItem(investigation='Echocardiogram', justification='To assess cardiac function and structure, especially if there are concerns about heart failure or valvular disease.'), InvestigationsChecklistItem(investigation='Stress test or coronary angiography (if indicated)', justification=\"To evaluate for significant coronary artery disease, especially given the patient's history of previous episodes of chest pain.\")])"
      ]
     },
     "execution_count": 233,
     "metadata": {},
     "output_type": "execute_result"
    }
   ],
   "source": [
    "output"
   ]
  },
  {
   "cell_type": "code",
   "execution_count": 234,
   "metadata": {},
   "outputs": [],
   "source": [
    "output = case_generator.generate_ddx()"
   ]
  },
  {
   "cell_type": "code",
   "execution_count": 235,
   "metadata": {},
   "outputs": [
    {
     "data": {
      "text/plain": [
       "DdxChecklist(ChecklistItems=[DdxChecklistItem(diagnosis='Acute Coronary Syndrome (ACS)', justification=\"The patient's presentation of chest pain with radiation to the left arm and jaw, along with sweating and shortness of breath, is highly suggestive of ACS, which includes unstable angina and myocardial infarction.\"), DdxChecklistItem(diagnosis='Pulmonary Embolism (PE)', justification='The sudden onset of chest pain and shortness of breath could indicate a PE, especially in a patient with risk factors such as a history of smoking.'), DdxChecklistItem(diagnosis='Aortic Dissection', justification=\"The severe, tight chest pain that radiates could be indicative of an aortic dissection, particularly given the patient's age and hypertension.\"), DdxChecklistItem(diagnosis='Gastroesophageal Reflux Disease (GERD)', justification='While less likely given the severity and nature of the pain, GERD can present with chest pain, especially after meals, and should be considered.'), DdxChecklistItem(diagnosis='Pneumothorax', justification='The acute onset of chest pain and shortness of breath could suggest a pneumothorax, particularly if there are any risk factors or physical exam findings.'), DdxChecklistItem(diagnosis='Costochondritis', justification='This condition can cause localized chest pain that may mimic cardiac pain, but the severity and associated symptoms make it less likely.'), DdxChecklistItem(diagnosis='Esophageal Spasm', justification='The tightness in the chest could be due to esophageal spasm, especially if there is a history of similar episodes.'), DdxChecklistItem(diagnosis='Myocardial Ischemia due to Coronary Artery Disease (CAD)', justification=\"Given the patient's history of hypertension and high cholesterol, CAD is a significant risk factor for myocardial ischemia, which could present similarly.\")])"
      ]
     },
     "execution_count": 235,
     "metadata": {},
     "output_type": "execute_result"
    }
   ],
   "source": [
    "output"
   ]
  },
  {
   "cell_type": "code",
   "execution_count": 236,
   "metadata": {},
   "outputs": [
    {
     "name": "stdout",
     "output_type": "stream",
     "text": [
      ">>> Exporting basic details\n",
      ">>> Exporting history\n",
      ">>> Exporting Physical Exam\n",
      ">>> Exporting Investigations\n",
      ">>> Exporting Differential Diagnosis\n"
     ]
    },
    {
     "ename": "OSError",
     "evalue": "Cannot save file into a non-existent directory: 'Data/Data/diagnosis'",
     "output_type": "error",
     "traceback": [
      "\u001b[0;31m---------------------------------------------------------------------------\u001b[0m",
      "\u001b[0;31mOSError\u001b[0m                                   Traceback (most recent call last)",
      "Cell \u001b[0;32mIn[236], line 1\u001b[0m\n\u001b[0;32m----> 1\u001b[0m case_generator\u001b[38;5;241m.\u001b[39mexport_case(file_name\u001b[38;5;241m=\u001b[39m\u001b[38;5;124m\"\u001b[39m\u001b[38;5;124m2\u001b[39m\u001b[38;5;124m\"\u001b[39m)\n",
      "File \u001b[0;32m~/repos/SyntheticClinicalDatasets/simulator/generators.py:420\u001b[0m, in \u001b[0;36mexport_case\u001b[0;34m(self, verbose, dir_name, file_name)\u001b[0m\n\u001b[1;32m      0\u001b[0m <Error retrieving source code with stack_data see ipython/ipython#13598>\n",
      "File \u001b[0;32m/opt/anaconda3/envs/medbot/lib/python3.11/site-packages/pandas/util/_decorators.py:333\u001b[0m, in \u001b[0;36mdeprecate_nonkeyword_arguments.<locals>.decorate.<locals>.wrapper\u001b[0;34m(*args, **kwargs)\u001b[0m\n\u001b[1;32m    327\u001b[0m \u001b[38;5;28;01mif\u001b[39;00m \u001b[38;5;28mlen\u001b[39m(args) \u001b[38;5;241m>\u001b[39m num_allow_args:\n\u001b[1;32m    328\u001b[0m     warnings\u001b[38;5;241m.\u001b[39mwarn(\n\u001b[1;32m    329\u001b[0m         msg\u001b[38;5;241m.\u001b[39mformat(arguments\u001b[38;5;241m=\u001b[39m_format_argument_list(allow_args)),\n\u001b[1;32m    330\u001b[0m         \u001b[38;5;167;01mFutureWarning\u001b[39;00m,\n\u001b[1;32m    331\u001b[0m         stacklevel\u001b[38;5;241m=\u001b[39mfind_stack_level(),\n\u001b[1;32m    332\u001b[0m     )\n\u001b[0;32m--> 333\u001b[0m \u001b[38;5;28;01mreturn\u001b[39;00m func(\u001b[38;5;241m*\u001b[39margs, \u001b[38;5;241m*\u001b[39m\u001b[38;5;241m*\u001b[39mkwargs)\n",
      "File \u001b[0;32m/opt/anaconda3/envs/medbot/lib/python3.11/site-packages/pandas/core/generic.py:3967\u001b[0m, in \u001b[0;36mNDFrame.to_csv\u001b[0;34m(self, path_or_buf, sep, na_rep, float_format, columns, header, index, index_label, mode, encoding, compression, quoting, quotechar, lineterminator, chunksize, date_format, doublequote, escapechar, decimal, errors, storage_options)\u001b[0m\n\u001b[1;32m   3956\u001b[0m df \u001b[38;5;241m=\u001b[39m \u001b[38;5;28mself\u001b[39m \u001b[38;5;28;01mif\u001b[39;00m \u001b[38;5;28misinstance\u001b[39m(\u001b[38;5;28mself\u001b[39m, ABCDataFrame) \u001b[38;5;28;01melse\u001b[39;00m \u001b[38;5;28mself\u001b[39m\u001b[38;5;241m.\u001b[39mto_frame()\n\u001b[1;32m   3958\u001b[0m formatter \u001b[38;5;241m=\u001b[39m DataFrameFormatter(\n\u001b[1;32m   3959\u001b[0m     frame\u001b[38;5;241m=\u001b[39mdf,\n\u001b[1;32m   3960\u001b[0m     header\u001b[38;5;241m=\u001b[39mheader,\n\u001b[0;32m   (...)\u001b[0m\n\u001b[1;32m   3964\u001b[0m     decimal\u001b[38;5;241m=\u001b[39mdecimal,\n\u001b[1;32m   3965\u001b[0m )\n\u001b[0;32m-> 3967\u001b[0m \u001b[38;5;28;01mreturn\u001b[39;00m DataFrameRenderer(formatter)\u001b[38;5;241m.\u001b[39mto_csv(\n\u001b[1;32m   3968\u001b[0m     path_or_buf,\n\u001b[1;32m   3969\u001b[0m     lineterminator\u001b[38;5;241m=\u001b[39mlineterminator,\n\u001b[1;32m   3970\u001b[0m     sep\u001b[38;5;241m=\u001b[39msep,\n\u001b[1;32m   3971\u001b[0m     encoding\u001b[38;5;241m=\u001b[39mencoding,\n\u001b[1;32m   3972\u001b[0m     errors\u001b[38;5;241m=\u001b[39merrors,\n\u001b[1;32m   3973\u001b[0m     compression\u001b[38;5;241m=\u001b[39mcompression,\n\u001b[1;32m   3974\u001b[0m     quoting\u001b[38;5;241m=\u001b[39mquoting,\n\u001b[1;32m   3975\u001b[0m     columns\u001b[38;5;241m=\u001b[39mcolumns,\n\u001b[1;32m   3976\u001b[0m     index_label\u001b[38;5;241m=\u001b[39mindex_label,\n\u001b[1;32m   3977\u001b[0m     mode\u001b[38;5;241m=\u001b[39mmode,\n\u001b[1;32m   3978\u001b[0m     chunksize\u001b[38;5;241m=\u001b[39mchunksize,\n\u001b[1;32m   3979\u001b[0m     quotechar\u001b[38;5;241m=\u001b[39mquotechar,\n\u001b[1;32m   3980\u001b[0m     date_format\u001b[38;5;241m=\u001b[39mdate_format,\n\u001b[1;32m   3981\u001b[0m     doublequote\u001b[38;5;241m=\u001b[39mdoublequote,\n\u001b[1;32m   3982\u001b[0m     escapechar\u001b[38;5;241m=\u001b[39mescapechar,\n\u001b[1;32m   3983\u001b[0m     storage_options\u001b[38;5;241m=\u001b[39mstorage_options,\n\u001b[1;32m   3984\u001b[0m )\n",
      "File \u001b[0;32m/opt/anaconda3/envs/medbot/lib/python3.11/site-packages/pandas/io/formats/format.py:1014\u001b[0m, in \u001b[0;36mDataFrameRenderer.to_csv\u001b[0;34m(self, path_or_buf, encoding, sep, columns, index_label, mode, compression, quoting, quotechar, lineterminator, chunksize, date_format, doublequote, escapechar, errors, storage_options)\u001b[0m\n\u001b[1;32m    993\u001b[0m     created_buffer \u001b[38;5;241m=\u001b[39m \u001b[38;5;28;01mFalse\u001b[39;00m\n\u001b[1;32m    995\u001b[0m csv_formatter \u001b[38;5;241m=\u001b[39m CSVFormatter(\n\u001b[1;32m    996\u001b[0m     path_or_buf\u001b[38;5;241m=\u001b[39mpath_or_buf,\n\u001b[1;32m    997\u001b[0m     lineterminator\u001b[38;5;241m=\u001b[39mlineterminator,\n\u001b[0;32m   (...)\u001b[0m\n\u001b[1;32m   1012\u001b[0m     formatter\u001b[38;5;241m=\u001b[39m\u001b[38;5;28mself\u001b[39m\u001b[38;5;241m.\u001b[39mfmt,\n\u001b[1;32m   1013\u001b[0m )\n\u001b[0;32m-> 1014\u001b[0m csv_formatter\u001b[38;5;241m.\u001b[39msave()\n\u001b[1;32m   1016\u001b[0m \u001b[38;5;28;01mif\u001b[39;00m created_buffer:\n\u001b[1;32m   1017\u001b[0m     \u001b[38;5;28;01massert\u001b[39;00m \u001b[38;5;28misinstance\u001b[39m(path_or_buf, StringIO)\n",
      "File \u001b[0;32m/opt/anaconda3/envs/medbot/lib/python3.11/site-packages/pandas/io/formats/csvs.py:251\u001b[0m, in \u001b[0;36mCSVFormatter.save\u001b[0;34m(self)\u001b[0m\n\u001b[1;32m    247\u001b[0m \u001b[38;5;250m\u001b[39m\u001b[38;5;124;03m\"\"\"\u001b[39;00m\n\u001b[1;32m    248\u001b[0m \u001b[38;5;124;03mCreate the writer & save.\u001b[39;00m\n\u001b[1;32m    249\u001b[0m \u001b[38;5;124;03m\"\"\"\u001b[39;00m\n\u001b[1;32m    250\u001b[0m \u001b[38;5;66;03m# apply compression and byte/text conversion\u001b[39;00m\n\u001b[0;32m--> 251\u001b[0m \u001b[38;5;28;01mwith\u001b[39;00m get_handle(\n\u001b[1;32m    252\u001b[0m     \u001b[38;5;28mself\u001b[39m\u001b[38;5;241m.\u001b[39mfilepath_or_buffer,\n\u001b[1;32m    253\u001b[0m     \u001b[38;5;28mself\u001b[39m\u001b[38;5;241m.\u001b[39mmode,\n\u001b[1;32m    254\u001b[0m     encoding\u001b[38;5;241m=\u001b[39m\u001b[38;5;28mself\u001b[39m\u001b[38;5;241m.\u001b[39mencoding,\n\u001b[1;32m    255\u001b[0m     errors\u001b[38;5;241m=\u001b[39m\u001b[38;5;28mself\u001b[39m\u001b[38;5;241m.\u001b[39merrors,\n\u001b[1;32m    256\u001b[0m     compression\u001b[38;5;241m=\u001b[39m\u001b[38;5;28mself\u001b[39m\u001b[38;5;241m.\u001b[39mcompression,\n\u001b[1;32m    257\u001b[0m     storage_options\u001b[38;5;241m=\u001b[39m\u001b[38;5;28mself\u001b[39m\u001b[38;5;241m.\u001b[39mstorage_options,\n\u001b[1;32m    258\u001b[0m ) \u001b[38;5;28;01mas\u001b[39;00m handles:\n\u001b[1;32m    259\u001b[0m     \u001b[38;5;66;03m# Note: self.encoding is irrelevant here\u001b[39;00m\n\u001b[1;32m    260\u001b[0m     \u001b[38;5;28mself\u001b[39m\u001b[38;5;241m.\u001b[39mwriter \u001b[38;5;241m=\u001b[39m csvlib\u001b[38;5;241m.\u001b[39mwriter(\n\u001b[1;32m    261\u001b[0m         handles\u001b[38;5;241m.\u001b[39mhandle,\n\u001b[1;32m    262\u001b[0m         lineterminator\u001b[38;5;241m=\u001b[39m\u001b[38;5;28mself\u001b[39m\u001b[38;5;241m.\u001b[39mlineterminator,\n\u001b[0;32m   (...)\u001b[0m\n\u001b[1;32m    267\u001b[0m         quotechar\u001b[38;5;241m=\u001b[39m\u001b[38;5;28mself\u001b[39m\u001b[38;5;241m.\u001b[39mquotechar,\n\u001b[1;32m    268\u001b[0m     )\n\u001b[1;32m    270\u001b[0m     \u001b[38;5;28mself\u001b[39m\u001b[38;5;241m.\u001b[39m_save()\n",
      "File \u001b[0;32m/opt/anaconda3/envs/medbot/lib/python3.11/site-packages/pandas/io/common.py:749\u001b[0m, in \u001b[0;36mget_handle\u001b[0;34m(path_or_buf, mode, encoding, compression, memory_map, is_text, errors, storage_options)\u001b[0m\n\u001b[1;32m    747\u001b[0m \u001b[38;5;66;03m# Only for write methods\u001b[39;00m\n\u001b[1;32m    748\u001b[0m \u001b[38;5;28;01mif\u001b[39;00m \u001b[38;5;124m\"\u001b[39m\u001b[38;5;124mr\u001b[39m\u001b[38;5;124m\"\u001b[39m \u001b[38;5;129;01mnot\u001b[39;00m \u001b[38;5;129;01min\u001b[39;00m mode \u001b[38;5;129;01mand\u001b[39;00m is_path:\n\u001b[0;32m--> 749\u001b[0m     check_parent_directory(\u001b[38;5;28mstr\u001b[39m(handle))\n\u001b[1;32m    751\u001b[0m \u001b[38;5;28;01mif\u001b[39;00m compression:\n\u001b[1;32m    752\u001b[0m     \u001b[38;5;28;01mif\u001b[39;00m compression \u001b[38;5;241m!=\u001b[39m \u001b[38;5;124m\"\u001b[39m\u001b[38;5;124mzstd\u001b[39m\u001b[38;5;124m\"\u001b[39m:\n\u001b[1;32m    753\u001b[0m         \u001b[38;5;66;03m# compression libraries do not like an explicit text-mode\u001b[39;00m\n",
      "File \u001b[0;32m/opt/anaconda3/envs/medbot/lib/python3.11/site-packages/pandas/io/common.py:616\u001b[0m, in \u001b[0;36mcheck_parent_directory\u001b[0;34m(path)\u001b[0m\n\u001b[1;32m    614\u001b[0m parent \u001b[38;5;241m=\u001b[39m Path(path)\u001b[38;5;241m.\u001b[39mparent\n\u001b[1;32m    615\u001b[0m \u001b[38;5;28;01mif\u001b[39;00m \u001b[38;5;129;01mnot\u001b[39;00m parent\u001b[38;5;241m.\u001b[39mis_dir():\n\u001b[0;32m--> 616\u001b[0m     \u001b[38;5;28;01mraise\u001b[39;00m \u001b[38;5;167;01mOSError\u001b[39;00m(\u001b[38;5;124mrf\u001b[39m\u001b[38;5;124m\"\u001b[39m\u001b[38;5;124mCannot save file into a non-existent directory: \u001b[39m\u001b[38;5;124m'\u001b[39m\u001b[38;5;132;01m{\u001b[39;00mparent\u001b[38;5;132;01m}\u001b[39;00m\u001b[38;5;124m'\u001b[39m\u001b[38;5;124m\"\u001b[39m)\n",
      "\u001b[0;31mOSError\u001b[0m: Cannot save file into a non-existent directory: 'Data/Data/diagnosis'"
     ]
    }
   ],
   "source": [
    "case_generator.export_case(file_name=\"2\")"
   ]
  },
  {
   "cell_type": "code",
   "execution_count": 192,
   "metadata": {},
   "outputs": [],
   "source": [
    "import pandas as pd\n",
    "\n",
    "case_number = 1\n",
    "\n",
    "details_df = pd.DataFrame()\n",
    "details_df.at[0, 'Basic details'] = case_generator.basic_details\n",
    "details_df.at[0, 'Vitals'] = case_generator.vitals\n",
    "details_df.at[0, 'Physical presentation'] = case_generator.physical_presentation\n",
    "details_df.at[0, 'Challenging question'] = case_generator.challenging_question\n",
    "details_df.to_csv(\"Data/details/\" + str(case_number) + \".csv\")\n"
   ]
  },
  {
   "cell_type": "code",
   "execution_count": 193,
   "metadata": {},
   "outputs": [],
   "source": [
    "columns = [\"Question\", \"Patient Response\"]\n",
    "history_df = pd.DataFrame(columns=columns)\n",
    "\n",
    "for item in case_generator.history.ChecklistItems:\n",
    "  history_df = pd.concat(\n",
    "    [\n",
    "      history_df,\n",
    "      pd.DataFrame(\n",
    "        [[\n",
    "          item.question, item.response\n",
    "        ]], columns=columns)\n",
    "    ]\n",
    "  )\n",
    "\n",
    "history_df.reset_index(drop=True)\n",
    "history_df.to_csv(\"Data/history/\" + str(case_number) + \".csv\")"
   ]
  },
  {
   "cell_type": "code",
   "execution_count": 191,
   "metadata": {},
   "outputs": [],
   "source": [
    "columns = [\"Physical Exam\", \"Justification\"]\n",
    "physical_exam_df = pd.DataFrame(columns=columns)\n",
    "\n",
    "for item in case_generator.physical_exam.ChecklistItems:\n",
    "  physical_exam_df = pd.concat(\n",
    "    [\n",
    "      physical_exam_df,\n",
    "      pd.DataFrame(\n",
    "        [[\n",
    "          item.technique, item.justification\n",
    "        ]], columns=columns)\n",
    "    ]\n",
    "  )\n",
    "\n",
    "physical_exam_df.reset_index(drop=True)\n",
    "physical_exam_df.to_csv(\"Data/physical/\" + str(case_number) + \".csv\")"
   ]
  },
  {
   "cell_type": "code",
   "execution_count": 190,
   "metadata": {},
   "outputs": [],
   "source": [
    "columns = [\"Investigations\", \"Justification\"]\n",
    "investigations_df = pd.DataFrame(columns=columns)\n",
    "\n",
    "for item in case_generator.investigations.ChecklistItems:\n",
    "  investigations_df = pd.concat(\n",
    "    [\n",
    "      investigations_df,\n",
    "      pd.DataFrame(\n",
    "        [[item.investigation, item.justification\n",
    "          ]], columns=columns)\n",
    "    ]\n",
    "  )\n",
    "\n",
    "investigations_df.reset_index(drop=True)\n",
    "investigations_df.to_csv(\"Data/investigations/\" + str(case_number) + \".csv\")"
   ]
  },
  {
   "cell_type": "code",
   "execution_count": null,
   "metadata": {},
   "outputs": [],
   "source": [
    "columns = [\"Diagnosis\", \"Justification\"]\n",
    "diagnoses_df = pd.DataFrame(columns=columns)\n",
    "\n",
    "for item in case_generator.ddx.ChecklistItems:\n",
    "  diagnoses_df = pd.concat([\n",
    "    diagnoses_df,\n",
    "    pd.DataFrame(\n",
    "      [[\n",
    "        item.diagnosis, item.justification\n",
    "      ]], columns=columns)\n",
    "  ])\n",
    "\n",
    "diagnoses_df.reset_index(drop=True)\n",
    "diagnoses_df.to_csv(\"Data/diagnosis/\" + str(case_number) + \".csv\")"
   ]
  }
 ],
 "metadata": {
  "kernelspec": {
   "display_name": "medbot",
   "language": "python",
   "name": "python3"
  },
  "language_info": {
   "codemirror_mode": {
    "name": "ipython",
    "version": 3
   },
   "file_extension": ".py",
   "mimetype": "text/x-python",
   "name": "python",
   "nbconvert_exporter": "python",
   "pygments_lexer": "ipython3",
   "version": "3.11.9"
  }
 },
 "nbformat": 4,
 "nbformat_minor": 2
}
