{
 "cells": [
  {
   "cell_type": "markdown",
   "metadata": {},
   "source": [
    "# Generate structured cases for the following scenarios\n",
    "\n",
    "1. 52 year old man comes to ED complaining of chest pain\n",
    "2. 45 year old man comes to outpatient clinic complaining of bloody urine\n",
    "3. 49 year old man comes to clinic complaining of back pain \n",
    "4. 28 year old man walks into ED after a motor vehicle accident\n",
    "5. 32 year old woman walks into clinic with a positive pregnancy test\n",
    "6. 11 year old girl comes to clinic with an elevated glucose test from school nurse\n",
    "7. 69 year old man complains of left arm pain\n",
    "8. 63 year old woman comes back to clinic for follow-up of diabetes\n",
    "9. 28 year old lady comes to ED after sexual assault\n",
    "10. 40 year old woman complains of right calf pain\n",
    "11. 65 year old man presents with new onset hoarseness of voice\n",
    "12. 70 year old lady presenting to clinic with neck pain\n",
    "13. 55 year old female admitted to ED for abdominal pain\n",
    "14. 38 year old woman presents to clinic with headache\n",
    "15. 35 year old lady complains of irregular menses\n",
    "16. 24 year old young female presents to clinic with regular pain during sex\n",
    "17. 80 year old elderly gentleman complaining of hearing loss\n",
    "18. 5 year old girl coming in to clinic with jaundice\n",
    "19. 8 month old boy presents to ED with fever\n",
    "20. 22 year old young gentleman presents to clinic with cough\n",
    "21. 49 year old lady presenting to clinic with jaundice\n",
    "22. 55 year old male complains of dizziness\n",
    "23. 35 year old young lady presenting to the clinic with knee pain\n",
    "24. 28 year old young man complains of heel pain\n",
    "25. 19 month old girl presenting to clinic with fever\n",
    "26. 58 year old woman complains of chronic cough\n",
    "27. 59 year old man complains of chronic fatigue\n",
    "28. 61 year old man comes to clinic for followup on hypertension\n",
    "29. 23 year old young lady complains of sleeping issues\n",
    "30. 2 year old girl presents to clinic with persistent noisy breathing\n",
    "31. 24 year old woman presents to ED with abdominal pain\n",
    "32. 68 year old elderly lady complaining of forgetfulness and disorientation\n",
    "33. 49 year old man came to clinic complaining of fatigue\n",
    "34. 32 year old young lady presents to clinic with fatigue\n",
    "35. 26 year old man complains of visual and auditory hallucinations\n",
    "36. 29 year old woman presents in clinic for pre employment physical\n",
    "37. 59 year old man presents to ED with bloody stools\n",
    "38. 61 year old man presents to clinic with tremors and walking problems\n",
    "39. 32 year old young woman came to clinic with weight gain\n",
    "40. 5 month old girl presents to ED with multiple episodes of diarrhoea\n",
    "41. 7 year old boy presents to clinic with bed wetting\n",
    "42. 13 month old girl presents to ED with seizures\n",
    "43. 25 year old man complains of sore throat\n",
    "44. 54 year old man presents to ED with fall and loss of consciousness"
   ]
  },
  {
   "cell_type": "code",
   "execution_count": 1,
   "metadata": {},
   "outputs": [],
   "source": [
    "import pandas as pd\n",
    "\n",
    "details = pd.read_excel(\"Data/BaseCase.xlsx\", sheet_name=\"Details\")\n",
    "history = pd.read_excel(\"Data/BaseCase.xlsx\", sheet_name=\"History Taking\", keep_default_na=False)\n",
    "physical = pd.read_excel(\"Data/BaseCase.xlsx\", sheet_name=\"Physical Examination\")\n",
    "diagnosis = pd.read_excel(\"Data/BaseCase.xlsx\", sheet_name=\"Differential Diagnosis\")\n",
    "Investigations = pd.read_excel(\"Data/BaseCase.xlsx\", sheet_name=\"Investigations\")"
   ]
  },
  {
   "cell_type": "code",
   "execution_count": 430,
   "metadata": {},
   "outputs": [],
   "source": [
    "from importlib import reload\n",
    "import simulator\n",
    "reload(simulator.generators)\n",
    "\n",
    "history_taking_example = \"\\n\".join(\n",
    "  [f\"Question: {row['Question']} | Response: {row['Patient Response']}\"\n",
    "    for index, row in history.iterrows()])\n",
    "\n",
    "case_generator = simulator.generators.CaseGenerator(\n",
    "  model_name=\"gpt-4o\",\n",
    "  case_stem = \"54 year old man presents to ED with fall and loss of consciousness\",\n",
    "  basic_details_example= details[\"Case Prompt\"].values[0],\n",
    "  vitals_example = details[\"Vitals\"].values[0],\n",
    "  physical_presentation_example = details[\"Physical presentation\"].values[0],\n",
    "  challenging_question_example = details[\"Challenging Questions to Ask\"].values[0],\n",
    "  history_taking_example = history_taking_example\n",
    ")"
   ]
  },
  {
   "cell_type": "code",
   "execution_count": 431,
   "metadata": {},
   "outputs": [],
   "source": [
    "output = case_generator.generate_basic_details()"
   ]
  },
  {
   "cell_type": "code",
   "execution_count": 432,
   "metadata": {},
   "outputs": [
    {
     "data": {
      "text/plain": [
       "['Michael Johnson, a 54-year-old male, presents to the ED after experiencing a fall and subsequent loss of consciousness.',\n",
       " 'BP: 140/90 mm Hg\\nTemp: 97.8°F (36.6°C)\\nRR: 18/minute\\nHR: 78/minute, regular',\n",
       " None,\n",
       " '“Why did I pass out? Is there something seriously wrong with me?”']"
      ]
     },
     "execution_count": 432,
     "metadata": {},
     "output_type": "execute_result"
    }
   ],
   "source": [
    "output"
   ]
  },
  {
   "cell_type": "code",
   "execution_count": 433,
   "metadata": {},
   "outputs": [],
   "source": [
    "output = case_generator.generate_history()"
   ]
  },
  {
   "cell_type": "code",
   "execution_count": 434,
   "metadata": {},
   "outputs": [
    {
     "name": "stdout",
     "output_type": "stream",
     "text": [
      "Chief complaint\n",
      "I fell and lost consciousness.\n",
      "\n",
      "Onset\n",
      "It happened suddenly.\n",
      "\n",
      "Precipitating events\n",
      "I was walking and suddenly felt dizzy before I fell.\n",
      "\n",
      "Progression\n",
      "I felt dizzy, then I fell and lost consciousness.\n",
      "\n",
      "Duration of unconsciousness\n",
      "I don't know, but I woke up on the ground.\n",
      "\n",
      "Headache\n",
      "Yes, I have a headache now.\n",
      "\n",
      "Confusion\n",
      "I feel a bit confused and disoriented.\n",
      "\n",
      "Previous episodes of dizziness or fainting\n",
      "No, this is the first time.\n",
      "\n",
      "Associated symptoms\n",
      "I feel a bit nauseous.\n",
      "\n",
      "Current medications\n",
      "I take medication for high blood pressure.\n",
      "\n",
      "Past medical history\n",
      "I have hypertension.\n",
      "\n",
      "Past surgical history\n",
      "I had my appendix removed when I was a kid.\n",
      "\n",
      "Family history\n",
      "My father had a stroke at 60. My mother has diabetes.\n",
      "\n",
      "Occupation\n",
      "I work as a construction manager.\n",
      "\n",
      "Alcohol use\n",
      "I drink socially, maybe once or twice a week.\n",
      "\n",
      "Illicit drugs\n",
      "No, I don't use any drugs.\n",
      "\n",
      "Tobacco history\n",
      "I quit smoking 5 years ago.\n",
      "\n",
      "Duration of tobacco use\n",
      "I smoked for about 20 years.\n",
      "\n",
      "Exercise\n",
      "I try to walk a few times a week.\n",
      "\n",
      "Diet\n",
      "I try to eat healthy, but I have a weakness for fast food.\n",
      "\n",
      "Drug Allergies\n",
      "None that I know of.\n",
      "\n"
     ]
    }
   ],
   "source": [
    "for item in output.ChecklistItems:\n",
    "  print(item.question)\n",
    "  print(item.response)\n",
    "  print()"
   ]
  },
  {
   "cell_type": "code",
   "execution_count": 435,
   "metadata": {},
   "outputs": [],
   "source": [
    "output = case_generator.generate_physical_exam()"
   ]
  },
  {
   "cell_type": "code",
   "execution_count": 436,
   "metadata": {},
   "outputs": [
    {
     "name": "stdout",
     "output_type": "stream",
     "text": [
      "Neurological examination\n",
      "To assess the level of consciousness, orientation, and any focal neurological deficits that may indicate a neurological cause for the fall and loss of consciousness.\n",
      "\n",
      "Head and neck examination\n",
      "To check for any signs of head trauma, such as bruising, swelling, or tenderness, which could have resulted from the fall.\n",
      "\n",
      "Cardiovascular examination\n",
      "To evaluate heart function and rule out any cardiac causes of syncope, such as arrhythmias or heart failure.\n",
      "\n",
      "Orthostatic vital signs\n",
      "To assess for orthostatic hypotension, which could explain the dizziness and fall.\n",
      "\n",
      "Gait assessment\n",
      "To evaluate balance and coordination, which may provide clues to the cause of the fall.\n",
      "\n",
      "Ophthalmologic examination\n",
      "To check for any visual disturbances or papilledema that could indicate increased intracranial pressure.\n",
      "\n",
      "Ear examination\n",
      "To rule out any vestibular causes of dizziness, such as benign paroxysmal positional vertigo (BPPV).\n",
      "\n",
      "Skin examination\n",
      "To look for any signs of bruising or injury from the fall, as well as any rashes or lesions that could indicate an underlying condition.\n",
      "\n",
      "Abdominal examination\n",
      "To rule out any abdominal causes of syncope, such as pain or internal bleeding.\n",
      "\n"
     ]
    }
   ],
   "source": [
    "for item in output.ChecklistItems:\n",
    "  print(item.technique)\n",
    "  print(item.justification)\n",
    "  print()"
   ]
  },
  {
   "cell_type": "code",
   "execution_count": 437,
   "metadata": {},
   "outputs": [],
   "source": [
    "output = case_generator.generate_investigations()"
   ]
  },
  {
   "cell_type": "code",
   "execution_count": 438,
   "metadata": {},
   "outputs": [
    {
     "name": "stdout",
     "output_type": "stream",
     "text": [
      "CT scan of the head\n",
      "To rule out any intracranial hemorrhage or injury due to the fall and loss of consciousness.\n",
      "\n",
      "Electrocardiogram (ECG)\n",
      "To assess for any cardiac arrhythmias that might have led to the dizziness and loss of consciousness.\n",
      "\n",
      "Complete blood count (CBC)\n",
      "To check for any signs of infection or anemia that could contribute to dizziness and confusion.\n",
      "\n",
      "Electrolyte panel\n",
      "To identify any electrolyte imbalances that could cause dizziness and confusion.\n",
      "\n",
      "Blood glucose level\n",
      "To rule out hypoglycemia as a cause of the dizziness and loss of consciousness.\n",
      "\n",
      "Toxicology screen\n",
      "To rule out any substance use that might have contributed to the symptoms.\n",
      "\n",
      "MRI of the brain\n",
      "If CT scan is inconclusive, to further evaluate for any subtle brain injuries or pathologies.\n",
      "\n",
      "Blood pressure monitoring\n",
      "To assess for any fluctuations or orthostatic hypotension that could explain the dizziness and fall.\n",
      "\n"
     ]
    }
   ],
   "source": [
    "for item in output.ChecklistItems:\n",
    "  print(item.investigation)\n",
    "  print(item.justification)\n",
    "  print()"
   ]
  },
  {
   "cell_type": "code",
   "execution_count": 439,
   "metadata": {},
   "outputs": [],
   "source": [
    "output = case_generator.generate_ddx()"
   ]
  },
  {
   "cell_type": "code",
   "execution_count": 440,
   "metadata": {},
   "outputs": [
    {
     "name": "stdout",
     "output_type": "stream",
     "text": [
      "Cerebral contusion or concussion\n",
      "The patient experienced a fall with subsequent loss of consciousness and is now presenting with headache and confusion, which are common symptoms following a head injury.\n",
      "\n",
      "Subdural hematoma\n",
      "Given the patient's age and the history of a fall with loss of consciousness, a subdural hematoma is a possibility, especially considering the confusion and headache.\n",
      "\n",
      "Syncope due to orthostatic hypotension\n",
      "The patient experienced dizziness before the fall, which could suggest a syncopal episode possibly related to orthostatic hypotension, especially given his history of hypertension and medication use.\n",
      "\n",
      "Transient ischemic attack (TIA)\n",
      "Considering the patient's age, family history of stroke, and sudden onset of symptoms, a TIA could be a potential cause of the transient loss of consciousness and confusion.\n",
      "\n",
      "Hypertensive crisis\n",
      "Although the blood pressure is not extremely high, the history of hypertension and the acute presentation of symptoms could suggest a hypertensive crisis leading to neurological symptoms.\n",
      "\n",
      "Vestibular disorder\n",
      "The sudden dizziness and subsequent fall could be related to a vestibular disorder, which can cause balance issues and dizziness.\n",
      "\n"
     ]
    }
   ],
   "source": [
    "for item in output.ChecklistItems:\n",
    "  print(item.diagnosis)\n",
    "  print(item.justification)\n",
    "  print()"
   ]
  },
  {
   "cell_type": "code",
   "execution_count": 441,
   "metadata": {},
   "outputs": [
    {
     "name": "stdout",
     "output_type": "stream",
     "text": [
      ">>> Exporting basic details\n",
      ">>> Exporting history\n",
      ">>> Exporting Physical Exam\n",
      ">>> Exporting Investigations\n",
      ">>> Exporting Differential Diagnosis\n"
     ]
    }
   ],
   "source": [
    "case_generator.export_case(file_name=\"44\")"
   ]
  }
 ],
 "metadata": {
  "kernelspec": {
   "display_name": "medbot",
   "language": "python",
   "name": "python3"
  },
  "language_info": {
   "codemirror_mode": {
    "name": "ipython",
    "version": 3
   },
   "file_extension": ".py",
   "mimetype": "text/x-python",
   "name": "python",
   "nbconvert_exporter": "python",
   "pygments_lexer": "ipython3",
   "version": "3.11.9"
  }
 },
 "nbformat": 4,
 "nbformat_minor": 2
}
