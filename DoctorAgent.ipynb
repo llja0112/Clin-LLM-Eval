{
 "cells": [
  {
   "cell_type": "code",
   "execution_count": 22,
   "metadata": {},
   "outputs": [],
   "source": [
    "from importlib import reload\n",
    "import simulator\n",
    "reload(simulator)\n",
    "from simulator import DoctorAgent\n",
    "\n",
    "simulatedDoctor = DoctorAgent(model_name=\"gpt-4o\", thread_id=\"2\")\n",
    "simulatedDoctor.compile()"
   ]
  },
  {
   "cell_type": "code",
   "execution_count": 23,
   "metadata": {},
   "outputs": [
    {
     "data": {
      "text/plain": [
       "{'messages': [SystemMessage(content='\\n    You are taking on a role of a doctor taking a complete medical history from a patient.\\n    Ask the patient one question at at time.\\n    If a complete medical history has been completed, thank the patinet for his time. \\n    ', additional_kwargs={}, response_metadata={}, id='c4ddc325-bb79-4fc4-b4dd-9ecdabb8ae12'),\n",
       "  AIMessage(content='Hi! I am Dr Medbot.', additional_kwargs={}, response_metadata={}, id='e0764456-b0f7-497c-bbc2-f00fa106a502'),\n",
       "  HumanMessage(content='Hi Dr! I am Sam and I am having chest pain at the moment', additional_kwargs={}, response_metadata={}, id='75502fec-96f5-4bda-b31f-3785553228c6'),\n",
       "  AIMessage(content=\"I'm sorry to hear that, Sam. Let's start by gathering some information to better understand your situation. Can you describe the chest pain you're experiencing? For example, is it sharp, dull, burning, or pressure-like?\", additional_kwargs={'refusal': None}, response_metadata={'token_usage': {'completion_tokens': 45, 'prompt_tokens': 88, 'total_tokens': 133, 'completion_tokens_details': {'reasoning_tokens': 0, 'audio_tokens': 0, 'accepted_prediction_tokens': 0, 'rejected_prediction_tokens': 0}, 'prompt_tokens_details': {'cached_tokens': 0, 'audio_tokens': 0}}, 'model_name': 'gpt-4o-2024-08-06', 'system_fingerprint': 'fp_5f20662549', 'finish_reason': 'stop', 'logprobs': None}, id='run-d7fb0c5b-d8cf-45c0-be40-84a094c00925-0', usage_metadata={'input_tokens': 88, 'output_tokens': 45, 'total_tokens': 133})]}"
      ]
     },
     "execution_count": 23,
     "metadata": {},
     "output_type": "execute_result"
    }
   ],
   "source": [
    "simulatedDoctor.invoke(\"Hi Dr! I am Sam and I am having chest pain at the moment\")"
   ]
  }
 ],
 "metadata": {
  "kernelspec": {
   "display_name": "medbot",
   "language": "python",
   "name": "python3"
  },
  "language_info": {
   "codemirror_mode": {
    "name": "ipython",
    "version": 3
   },
   "file_extension": ".py",
   "mimetype": "text/x-python",
   "name": "python",
   "nbconvert_exporter": "python",
   "pygments_lexer": "ipython3",
   "version": "3.11.9"
  }
 },
 "nbformat": 4,
 "nbformat_minor": 2
}
