{
 "cells": [
  {
   "cell_type": "code",
   "execution_count": 1,
   "metadata": {},
   "outputs": [
    {
     "data": {
      "text/plain": [
       "True"
      ]
     },
     "execution_count": 1,
     "metadata": {},
     "output_type": "execute_result"
    }
   ],
   "source": [
    "from dotenv import load_dotenv\n",
    "\n",
    "load_dotenv()"
   ]
  },
  {
   "cell_type": "code",
   "execution_count": 2,
   "metadata": {},
   "outputs": [],
   "source": [
    "from langchain_openai import ChatOpenAI\n",
    "\n",
    "llm = ChatOpenAI(model=\"gpt-4o-mini\")"
   ]
  },
  {
   "cell_type": "code",
   "execution_count": 4,
   "metadata": {},
   "outputs": [],
   "source": [
    "from pydantic import BaseModel, Field\n",
    "\n",
    "class Evaluation(BaseModel):\n",
    "  \"Evaluation metric for history taking field\"\n",
    "\n",
    "  score: int = Field(description=\"If the relevant information is obtained by the doctor in the history taking conversation, give a score of 1. Else, 0.\")\n",
    "  explanation: str = Field(description=\"Explain in 1 sentence why the score was given.\")\n"
   ]
  },
  {
   "cell_type": "code",
   "execution_count": 11,
   "metadata": {},
   "outputs": [],
   "source": [
    "from langchain_core.prompts import PromptTemplate\n",
    "\n",
    "conversation = \"\"\"\n",
    "Doctor: What brings you in today? | Patient: I have an ongoing chest pain for the last 1 day.\n",
    "Doctor: Can you tell me more about character of the chest pain? | Patient: It is a persistent dull pain.\n",
    "\"\"\"\n",
    "\n",
    "history_taking_category = \"Radiation\"\n",
    "patient_response = \"Pain radiates to the neck, upper back and left arm.\"\n",
    "\n",
    "template = \"\"\"\n",
    "You are an expert evaluator of doctors taking history from a patient.\n",
    "\n",
    "This is the conversation between the doctor and the patient:\n",
    "{conversation}\n",
    "\n",
    "Now make an assessment if the doctor asked questions pertaining to \"{history_taking_category}\" to get the following \"{patient_response}\"\n",
    "\"\"\"\n",
    "\n",
    "prompt = PromptTemplate.from_template(template)\n",
    "\n",
    "structured_llm = llm.with_structured_output(Evaluation)\n",
    "\n",
    "chain = prompt | structured_llm\n",
    "\n",
    "output = chain.invoke({\"conversation\": conversation, \"history_taking_category\": history_taking_category, \"patient_response\": patient_response})\n"
   ]
  },
  {
   "cell_type": "code",
   "execution_count": 14,
   "metadata": {},
   "outputs": [
    {
     "data": {
      "text/plain": [
       "0"
      ]
     },
     "execution_count": 14,
     "metadata": {},
     "output_type": "execute_result"
    }
   ],
   "source": [
    "output.score"
   ]
  },
  {
   "cell_type": "code",
   "execution_count": 15,
   "metadata": {},
   "outputs": [
    {
     "data": {
      "text/plain": [
       "\"The doctor did not ask about the radiation of the chest pain, which is critical for understanding the pain's characteristics.\""
      ]
     },
     "execution_count": 15,
     "metadata": {},
     "output_type": "execute_result"
    }
   ],
   "source": [
    "output.explanation"
   ]
  },
  {
   "cell_type": "code",
   "execution_count": 38,
   "metadata": {},
   "outputs": [],
   "source": [
    "from importlib import reload\n",
    "import simulator\n",
    "reload(simulator)\n",
    "from simulator import ExaminerAgent\n"
   ]
  },
  {
   "cell_type": "code",
   "execution_count": 39,
   "metadata": {},
   "outputs": [],
   "source": [
    "simulatedExaminer = ExaminerAgent(model_name=\"gpt-4o-mini\")\n",
    "\n",
    "output = simulatedExaminer.evaluate_history_taking_item(conversation, history_taking_category, patient_response)"
   ]
  },
  {
   "cell_type": "code",
   "execution_count": 46,
   "metadata": {},
   "outputs": [],
   "source": [
    "physical_exam_suggestions = \"\"\"\n",
    "1. **Vital Signs**: I'll check your pulse rate, blood pressure, respiratory rate, and oxygen saturation using my stethoscope.\n",
    "2. **Percussion**: I'll gently tap on your chest with my fingers to assess the sound of your heart and lungs.\n",
    "3. **Palpation**: I'll use my hands to feel for any abnormalities in your chest wall, such as tenderness or masses.\n",
    "4. **Auscultation**: I'll listen carefully with my stethoscope to hear the sounds of your heart and lungs, looking for any irregularities or murmurs.\n",
    "\"\"\"\n",
    "\n",
    "physical_exam_category = \"Neck Exam\"\n",
    "physical_exam_details = \"Looked for JVD, carotid auscultation\"\n"
   ]
  },
  {
   "cell_type": "code",
   "execution_count": 60,
   "metadata": {},
   "outputs": [],
   "source": [
    "from importlib import reload\n",
    "import simulator\n",
    "reload(simulator)\n",
    "from simulator import ExaminerAgent\n",
    "\n",
    "simulatedExaminer = ExaminerAgent(model_name=\"gpt-4o-mini\")\n"
   ]
  },
  {
   "cell_type": "code",
   "execution_count": 48,
   "metadata": {},
   "outputs": [],
   "source": [
    "output = simulatedExaminer.evaluate_physical_exam_item(\n",
    "  physical_exam_suggestions, physical_exam_category, physical_exam_details\n",
    ")"
   ]
  },
  {
   "cell_type": "code",
   "execution_count": 50,
   "metadata": {},
   "outputs": [
    {
     "data": {
      "text/plain": [
       "'The doctor did not suggest any steps related to the neck examination, such as checking for jugular venous distension (JVD) or performing carotid auscultation.'"
      ]
     },
     "execution_count": 50,
     "metadata": {},
     "output_type": "execute_result"
    }
   ],
   "source": [
    "output.explanation"
   ]
  },
  {
   "cell_type": "code",
   "execution_count": 51,
   "metadata": {},
   "outputs": [],
   "source": [
    "import pandas as pd\n",
    "\n",
    "physical = pd.read_excel(\"Data/Case_1.xlsx\", sheet_name=\"Physical Examination\")\n"
   ]
  },
  {
   "cell_type": "code",
   "execution_count": 61,
   "metadata": {},
   "outputs": [],
   "source": [
    "simulatedExaminer.evaluate_physical_exam_checklist(physical_exam_suggestions, physical.loc[:5])"
   ]
  },
  {
   "cell_type": "code",
   "execution_count": 62,
   "metadata": {},
   "outputs": [
    {
     "data": {
      "text/plain": [
       "2"
      ]
     },
     "execution_count": 62,
     "metadata": {},
     "output_type": "execute_result"
    }
   ],
   "source": [
    "simulatedExaminer.physical_exam_score"
   ]
  },
  {
   "cell_type": "code",
   "execution_count": 70,
   "metadata": {},
   "outputs": [],
   "source": [
    "from importlib import reload\n",
    "import simulator\n",
    "reload(simulator)\n",
    "from simulator import ExaminerAgent\n",
    "\n",
    "simulatedExaminer = ExaminerAgent(model_name=\"gpt-4o-mini\")\n"
   ]
  },
  {
   "cell_type": "code",
   "execution_count": 68,
   "metadata": {},
   "outputs": [],
   "source": [
    "investigations_suggestions = \"\"\"\n",
    "1. **Electrocardiogram (ECG or EKG)**: This is a non-invasive test that measures the electrical activity of the heart. It can help identify any irregularities in the heartbeat, which could indicate a cardiac issue.\n",
    "2. **Blood tests**: I'd like to run some blood tests to check your:\n",
    "\t* Complete Blood Count (CBC) to rule out anemia or infection\n",
    "\t* Electrolyte levels (e.g., potassium, sodium) to ensure they're within normal ranges\n",
    "\t* Lipid profile to assess your cholesterol and triglyceride levels\n",
    "\t* Troponin test to check for cardiac damage\n",
    "3. **Chest X-ray**: This will help me evaluate the size and shape of your heart, as well as any potential lung issues.\n",
    "4. **Echocardiogram (Echo)**: This non-invasive ultrasound test will allow me to visualize the structure and function of your heart, including the valves and chambers.\n",
    "5. **Stress Test**: Depending on the results of the above tests, I may recommend a stress test to assess how your heart responds to physical activity.\n",
    "\"\"\"\n",
    "\n",
    "investigations_item = \"ECG\""
   ]
  },
  {
   "cell_type": "code",
   "execution_count": 69,
   "metadata": {},
   "outputs": [
    {
     "data": {
      "text/plain": [
       "InvestigationsEvaluation(score=1, explanation='The doctor suggested an Electrocardiogram (ECG), which is appropriate for assessing irregularities in the heartbeat and potential cardiac issues.')"
      ]
     },
     "execution_count": 69,
     "metadata": {},
     "output_type": "execute_result"
    }
   ],
   "source": [
    "simulatedExaminer.evaluate_investigations_item(investigations_suggestions, investigations_item)"
   ]
  },
  {
   "cell_type": "code",
   "execution_count": 71,
   "metadata": {},
   "outputs": [],
   "source": [
    "import pandas as pd\n",
    "\n",
    "investigations = pd.read_excel(\"Data/Case_1.xlsx\", sheet_name=\"Investigations\")\n",
    "\n",
    "simulatedExaminer.evaluate_investigations_checklist(investigations_suggestions, investigations)\n"
   ]
  },
  {
   "cell_type": "code",
   "execution_count": 72,
   "metadata": {},
   "outputs": [
    {
     "data": {
      "text/plain": [
       "3"
      ]
     },
     "execution_count": 72,
     "metadata": {},
     "output_type": "execute_result"
    }
   ],
   "source": [
    "simulatedExaminer.investigations_score"
   ]
  },
  {
   "cell_type": "code",
   "execution_count": 73,
   "metadata": {},
   "outputs": [
    {
     "data": {
      "text/plain": [
       "['The doctor suggested an Electrocardiogram (ECG), which is appropriate for assessing irregularities in the heartbeat and potential cardiac issues.',\n",
       " 'The doctor suggested a troponin test, which is a key cardiac enzyme used to assess for cardiac damage, making it appropriate for evaluating cardiac issues.',\n",
       " 'The doctor suggested an echocardiogram, which is a type of transthoracic echocardiography, to visualize the structure and function of the heart.',\n",
       " 'The suggested investigations focus on cardiac health and do not address any gastrointestinal issues that would warrant an upper endoscopy.',\n",
       " 'The suggested investigations focus on cardiac health and general blood analysis, which do not address the need for a urine toxicology test.']"
      ]
     },
     "execution_count": 73,
     "metadata": {},
     "output_type": "execute_result"
    }
   ],
   "source": [
    "simulatedExaminer.investigations_scoring_log"
   ]
  },
  {
   "cell_type": "code",
   "execution_count": 84,
   "metadata": {},
   "outputs": [],
   "source": [
    "from importlib import reload\n",
    "reload(simulator)\n",
    "from simulator.agents import ExaminerAgent\n",
    "\n",
    "simulatedExaminer = ExaminerAgent(model_name=\"gpt-4o-mini\")\n"
   ]
  },
  {
   "cell_type": "code",
   "execution_count": 85,
   "metadata": {},
   "outputs": [
    {
     "data": {
      "text/plain": [
       "DdxEvaluation(score=1, explanation='The doctor suggested Acute Coronary Syndrome (ACS), which includes Myocardial Infarction as a potential cause of the symptoms, making it an appropriate differential diagnosis.')"
      ]
     },
     "execution_count": 85,
     "metadata": {},
     "output_type": "execute_result"
    }
   ],
   "source": [
    "ddx_suggestions = \"\"\"\n",
    "1. **Acute Coronary Syndrome (ACS)**: Given the sudden onset of chest pain, shortness of breath, sweating, and nausea, ACS is a strong possibility. This condition can be caused by a blockage in one or more coronary arteries, leading to reduced blood flow to the heart muscle.\n",
    "2. **Pulmonary Embolism (PE)**: Joseph's symptoms of sudden onset chest pain, shortness of breath, and sweating could also suggest a pulmonary embolism. A PE occurs when a blood clot lodges in an artery in the lung, blocking blood flow and causing these symptoms.\n",
    "3. **Acid Reflux or Gastroesophageal Reflux Disease (GERD)**: Although Joseph has a history of GERD, it's possible that his current symptoms could be related to acid reflux or GERD exacerbation. However, given the severity of his symptoms, I would need to rule out other more serious conditions first.\n",
    "\"\"\"\n",
    "ddx_item = \"Myocardial Infarction\"\n",
    "\n",
    "simulatedExaminer.evaluate_ddx_item(ddx_suggestions, ddx_item)"
   ]
  },
  {
   "cell_type": "code",
   "execution_count": 78,
   "metadata": {},
   "outputs": [],
   "source": [
    "import pandas as pd\n",
    "\n",
    "diagnosis = pd.read_excel(\"Data/Case_1.xlsx\", sheet_name=\"Differential Diagnosis\")\n",
    "\n",
    "# diagnosis\n",
    "\n",
    "simulatedExaminer.evaluate_ddx_checklist(ddx_suggestions, diagnosis)"
   ]
  },
  {
   "cell_type": "code",
   "execution_count": 80,
   "metadata": {},
   "outputs": [
    {
     "data": {
      "text/plain": [
       "2"
      ]
     },
     "execution_count": 80,
     "metadata": {},
     "output_type": "execute_result"
    }
   ],
   "source": [
    "simulatedExaminer.differential_diagnoses_score"
   ]
  },
  {
   "cell_type": "code",
   "execution_count": 81,
   "metadata": {},
   "outputs": [
    {
     "data": {
      "text/plain": [
       "['The doctor suggested Acute Coronary Syndrome (ACS), which includes myocardial ischemia or infarction as a key component, making it an appropriate differential diagnosis.',\n",
       " \"The doctor did not suggest Cocaine induced myocardial ischemia, which is a relevant differential diagnosis given the patient's symptoms and potential drug use.\",\n",
       " \"The doctor appropriately included GERD as a differential diagnosis due to the patient's history, while also recognizing the need to prioritize more serious conditions given the severity of the current symptoms.\"]"
      ]
     },
     "execution_count": 81,
     "metadata": {},
     "output_type": "execute_result"
    }
   ],
   "source": [
    "simulatedExaminer.differential_diagnoses_scoring_log"
   ]
  }
 ],
 "metadata": {
  "kernelspec": {
   "display_name": "medbot",
   "language": "python",
   "name": "python3"
  },
  "language_info": {
   "codemirror_mode": {
    "name": "ipython",
    "version": 3
   },
   "file_extension": ".py",
   "mimetype": "text/x-python",
   "name": "python",
   "nbconvert_exporter": "python",
   "pygments_lexer": "ipython3",
   "version": "3.11.9"
  }
 },
 "nbformat": 4,
 "nbformat_minor": 2
}
