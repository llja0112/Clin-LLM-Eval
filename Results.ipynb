{
 "cells": [
  {
   "cell_type": "code",
   "execution_count": 1,
   "metadata": {},
   "outputs": [],
   "source": [
    "import pandas as pd\n"
   ]
  },
  {
   "cell_type": "code",
   "execution_count": 26,
   "metadata": {},
   "outputs": [],
   "source": [
    "def tabulate_score(eval_df):\n",
    "  raw_score = eval_df['Score'].sum()\n",
    "  denominator = len(eval_df)\n",
    "  score = raw_score/denominator\n",
    "  return [raw_score, denominator, score]\n",
    "\n",
    "def tabulate_all_scores(\n",
    "    eval_dir=\"Data/evaluation/\", results_dir=\"Data/results/\", model_name=\"gemini-flash\", size=44):\n",
    "  columns = ['Raw Score', 'Denominator', 'Score']\n",
    "\n",
    "  history_score_df = pd.DataFrame(columns=columns)\n",
    "  physical_score_df = pd.DataFrame(columns=columns)\n",
    "  investigations_score_df = pd.DataFrame(columns=columns)\n",
    "  diagnosis_score_df = pd.DataFrame(columns=columns)\n",
    "\n",
    "  for case_no in range(size):\n",
    "    history_eval_file_path = eval_dir + 'history/' + model_name + '-' + str(case_no+1).zfill(2) + '.csv'\n",
    "    physical_eval_file_path = eval_dir + 'physical/' + model_name + '-' + str(case_no+1).zfill(2) + '.csv'\n",
    "    investigations_file_path = eval_dir + 'investigations/' + model_name + '-' + str(case_no+1).zfill(2) + '.csv'\n",
    "    diagnosis_eval_file_path = eval_dir + 'diagnosis/' + model_name + '-' + str(case_no+1).zfill(2) + '.csv'\n",
    "\n",
    "    history_eval = pd.read_csv(history_eval_file_path, index_col=0)\n",
    "    physical_eval = pd.read_csv(physical_eval_file_path, index_col=0)\n",
    "    investigations_eval = pd.read_csv(investigations_file_path, index_col=0)\n",
    "    diagnosis_eval = pd.read_csv(diagnosis_eval_file_path, index_col=0)\n",
    "\n",
    "    history_score_df.loc[case_no+1] = tabulate_score(history_eval)\n",
    "    physical_score_df.loc[case_no+1] = tabulate_score(physical_eval)\n",
    "    investigations_score_df.loc[case_no+1] = tabulate_score(investigations_eval)\n",
    "    diagnosis_score_df.loc[case_no+1] = tabulate_score(diagnosis_eval)\n",
    "  \n",
    "  history_score_df.to_csv(results_dir + model_name + '-history.csv')\n",
    "  physical_score_df.to_csv(results_dir + model_name + '-physical.csv')\n",
    "  investigations_score_df.to_csv(results_dir + model_name + '-investigations.csv')\n",
    "  diagnosis_score_df.to_csv(results_dir + model_name + '-diagnosis.csv')\n",
    "\n",
    "  print(history_score_df['Score'].mean())\n",
    "  print(physical_score_df['Score'].mean())\n",
    "  print(investigations_score_df['Score'].mean())\n",
    "  print(diagnosis_score_df['Score'].mean())\n"
   ]
  },
  {
   "cell_type": "code",
   "execution_count": 27,
   "metadata": {},
   "outputs": [
    {
     "name": "stdout",
     "output_type": "stream",
     "text": [
      "0.562566827935194\n",
      "0.2513560934015479\n",
      "0.3363275613275613\n",
      "0.3801046176046176\n"
     ]
    }
   ],
   "source": [
    "tabulate_all_scores(model_name=\"gemini-flash\")"
   ]
  },
  {
   "cell_type": "code",
   "execution_count": 28,
   "metadata": {},
   "outputs": [
    {
     "name": "stdout",
     "output_type": "stream",
     "text": [
      "0.6588941373884978\n",
      "0.4365415518824609\n",
      "0.5266233766233767\n",
      "0.4026785714285714\n"
     ]
    }
   ],
   "source": [
    "tabulate_all_scores(model_name=\"gpt-mini\")"
   ]
  }
 ],
 "metadata": {
  "kernelspec": {
   "display_name": "medbot",
   "language": "python",
   "name": "python3"
  },
  "language_info": {
   "codemirror_mode": {
    "name": "ipython",
    "version": 3
   },
   "file_extension": ".py",
   "mimetype": "text/x-python",
   "name": "python",
   "nbconvert_exporter": "python",
   "pygments_lexer": "ipython3",
   "version": "3.11.9"
  }
 },
 "nbformat": 4,
 "nbformat_minor": 2
}
