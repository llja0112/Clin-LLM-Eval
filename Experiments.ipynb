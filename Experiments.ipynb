{
 "cells": [
  {
   "cell_type": "code",
   "execution_count": 268,
   "metadata": {},
   "outputs": [],
   "source": [
    "import pandas as pd\n",
    "\n",
    "from importlib import reload\n",
    "from simulator import agents\n",
    "reload(agents)\n",
    "\n",
    "case_number = \"11\"\n",
    "\n",
    "details = pd.read_csv(\"Data/cases/details/\"+case_number+\".csv\", index_col=0)\n",
    "history = pd.read_csv(\"Data/cases/history/\"+case_number+\".csv\", index_col=0)\n",
    "physical = pd.read_csv(\"Data/cases/physical/\"+case_number+\".csv\", index_col=0)\n",
    "investigations = pd.read_csv(\"Data/cases/investigations/\"+case_number+\".csv\", index_col=0)\n",
    "diagnosis = pd.read_csv(\"Data/cases/diagnosis/\"+case_number+\".csv\", index_col=0)\n",
    "\n",
    "intro_message = \"Hi! I am Dr Medbot.\"\n",
    "\n",
    "simulatedDoctor = agents.DoctorAgent(model_name=\"gpt-4o-mini\", thread_id=\"1\", intro_message=intro_message)\n",
    "# simulatedDoctor = agents.DoctorAgent(model_name=\"gpt-4o-mini\", thread_id=\"1\", intro_message=intro_message)\n",
    "simulatedDoctor.compile()\n",
    "\n",
    "simulatedPatient = agents.PatientAgent(model_name=\"gpt-4o-mini\", thread_id=\"2\", details=details, history=history)\n",
    "simulatedPatient.compile()"
   ]
  },
  {
   "cell_type": "code",
   "execution_count": 269,
   "metadata": {},
   "outputs": [
    {
     "name": "stdout",
     "output_type": "stream",
     "text": [
      "Patient:\n",
      "Hello, Dr. Medbot! I'm Edward Green, and I'm here because I've been experiencing hoarseness in my voice for about a week now. How can I help you today?\n",
      "\n",
      "Doctor:\n",
      "Thank you for coming in, Edward. To start, can you tell me if you have any other symptoms accompanying the hoarseness, such as a sore throat, cough, or difficulty swallowing?\n",
      "\n",
      "Patient:\n",
      "I don't have any pain, but my throat feels a bit scratchy. I do have slight difficulty swallowing large or dry foods, but that's about it.\n",
      "\n",
      "Doctor:\n",
      "I see. Have you experienced any recent illnesses, such as a cold or flu, or have you been exposed to anyone who was sick?\n",
      "\n",
      "Patient:\n",
      "No, I haven't had any recent illnesses, and I haven't been around anyone who was sick either. It just started after a long day of talking last week.\n",
      "\n",
      "Doctor:\n",
      "Thank you for that information. Have you made any changes to your lifestyle recently, such as changes in diet, smoking, or exposure to irritants like dust or chemicals?\n",
      "\n",
      "Patient:\n",
      "I haven't made any significant changes to my lifestyle recently. I do try to eat a balanced diet, and I quit smoking five years ago after smoking for 30 years. I haven't been exposed to any irritants either.\n",
      "\n",
      "Doctor:\n",
      "That's good to hear. Have you had any history of allergies, acid reflux, or any other medical conditions that might affect your throat or voice?\n",
      "\n",
      "Patient:\n",
      "I don't have any history of allergies or acid reflux. My only medical condition is high blood pressure, which I manage with diet.\n",
      "\n",
      "Doctor:\n",
      "Thank you for sharing that. Are you currently taking any medications, including over-the-counter drugs or supplements?\n",
      "\n",
      "Patient:\n",
      "I'm not taking any medications at the moment, not even over-the-counter drugs or supplements.\n",
      "\n",
      "Doctor:\n",
      "Got it. Have you had any recent stress or changes in your emotional well-being that might have affected your voice or throat?\n",
      "\n",
      "Patient:\n",
      "I haven't experienced any significant stress or changes in my emotional well-being recently. Everything has been pretty stable for me.\n",
      "\n",
      "Doctor:\n",
      "Thank you for that information. Lastly, have you had any previous issues with your voice or throat in the past, or any treatments for similar symptoms?\n",
      "\n",
      "Patient:\n",
      "No, I've never had any issues with my voice or throat before, and I haven't received any treatments for similar symptoms. This hoarseness is a new experience for me.\n",
      "\n",
      "Doctor:\n",
      "Thank you for providing all that information, Edward. Based on what you've shared, it seems like your hoarseness may be related to overuse of your voice. However, I recommend a thorough examination to rule out any other potential causes. Thank you for your time today!\n",
      "\n",
      "Patient:\n",
      "Thank you, Dr. Medbot! I appreciate your help. Before we finish, could this be something serious like cancer?\n",
      "\n",
      "Doctor:\n",
      "It's understandable to have concerns about serious conditions like cancer, especially when experiencing new symptoms. However, hoarseness is often caused by less serious issues, such as vocal strain, allergies, or infections. A thorough examination will help determine the cause and whether any further testing is needed. If you have any persistent symptoms or concerns, it's always best to follow up with a healthcare professional. Thank you again for your time, and take care!\n",
      "\n",
      "Exiting the loop.\n"
     ]
    }
   ],
   "source": [
    "step = 0\n",
    "while True:\n",
    "  user_input = input(\"Enter 'c' to proceed or 'e' to exit: \").strip().lower()\n",
    "  if user_input == \"c\":\n",
    "    if step == 0:\n",
    "      patientOutput = simulatedPatient.invoke(intro_message)\n",
    "    else:\n",
    "      patientOutput = simulatedPatient.invoke(doctorOutput[\"messages\"][-1].content)\n",
    "    print(\"Patient:\")\n",
    "    print(patientOutput[\"messages\"][-1].content)\n",
    "    print()\n",
    "\n",
    "    doctorOutput = simulatedDoctor.invoke(patientOutput[\"messages\"][-1].content)\n",
    "    print(\"Doctor:\")\n",
    "    print(doctorOutput['messages'][-1].content)\n",
    "    print()\n",
    "\n",
    "    step += 1\n",
    "\n",
    "  elif user_input == \"e\":\n",
    "    print(\"Exiting the loop.\")\n",
    "    break\n",
    "  else:\n",
    "    print(\"Invalid input. Please enter 'continue' or 'end'.\")\n"
   ]
  },
  {
   "cell_type": "code",
   "execution_count": 270,
   "metadata": {},
   "outputs": [
    {
     "data": {
      "text/plain": [
       "PhysicalExamChecklist(ChecklistItems=[PhysicalExamChecklistItem(technique='Inspection of the throat and vocal cords using a laryngoscope', justification='To visually assess the vocal cords for any signs of inflammation, lesions, or other abnormalities that could be causing hoarseness.'), PhysicalExamChecklistItem(technique='Palpation of the neck for lymphadenopathy', justification='To check for swollen lymph nodes that may indicate an infection or other underlying condition.'), PhysicalExamChecklistItem(technique='Assessment of the oral cavity', justification='To evaluate for any lesions, redness, or other abnormalities that could contribute to throat discomfort.'), PhysicalExamChecklistItem(technique='Auscultation of the lungs', justification='To rule out any respiratory issues that may be contributing to the hoarseness.'), PhysicalExamChecklistItem(technique=\"Evaluation of the patient's voice quality and pitch\", justification='To assess the characteristics of the hoarseness and determine if there are any changes in voice production.')])"
      ]
     },
     "execution_count": 270,
     "metadata": {},
     "output_type": "execute_result"
    }
   ],
   "source": [
    "simulatedDoctor.invoke_physical_exam()"
   ]
  },
  {
   "cell_type": "code",
   "execution_count": 271,
   "metadata": {},
   "outputs": [
    {
     "name": "stdout",
     "output_type": "stream",
     "text": [
      "Inspection of the throat and vocal cords using a laryngoscope\n",
      "To visually assess the vocal cords for any signs of inflammation, lesions, or other abnormalities that could be causing hoarseness.\n",
      "\n",
      "Palpation of the neck for lymphadenopathy\n",
      "To check for swollen lymph nodes that may indicate an infection or other underlying condition.\n",
      "\n",
      "Assessment of the oral cavity\n",
      "To evaluate for any lesions, redness, or other abnormalities that could contribute to throat discomfort.\n",
      "\n",
      "Auscultation of the lungs\n",
      "To rule out any respiratory issues that may be contributing to the hoarseness.\n",
      "\n",
      "Evaluation of the patient's voice quality and pitch\n",
      "To assess the characteristics of the hoarseness and determine if there are any changes in voice production.\n",
      "\n"
     ]
    }
   ],
   "source": [
    "for item in simulatedDoctor.physical_exam.ChecklistItems:\n",
    "  print(item.technique)\n",
    "  print(item.justification)\n",
    "  print()"
   ]
  },
  {
   "cell_type": "code",
   "execution_count": 272,
   "metadata": {},
   "outputs": [],
   "source": [
    "simulatedDoctor.invoke_investigations()"
   ]
  },
  {
   "cell_type": "code",
   "execution_count": 273,
   "metadata": {},
   "outputs": [
    {
     "name": "stdout",
     "output_type": "stream",
     "text": [
      "Laryngoscopy\n",
      "To visually examine the vocal cords and throat for any abnormalities or signs of irritation.\n",
      "\n",
      "Throat culture\n",
      "To check for any bacterial or viral infections that could be causing the hoarseness.\n",
      "\n",
      "Complete blood count (CBC)\n",
      "To assess for any signs of infection or other underlying conditions.\n",
      "\n",
      "Allergy testing\n",
      "To rule out any potential allergies that may be contributing to throat irritation.\n",
      "\n",
      "Referral to an ENT specialist\n",
      "For a more comprehensive evaluation if initial investigations do not reveal a clear cause.\n",
      "\n"
     ]
    }
   ],
   "source": [
    "for item in simulatedDoctor.investigations.ChecklistItems:\n",
    "  print(item.investigation)\n",
    "  print(item.justification)\n",
    "  print()"
   ]
  },
  {
   "cell_type": "code",
   "execution_count": 274,
   "metadata": {},
   "outputs": [],
   "source": [
    "simulatedDoctor.invoke_differential_diagnoses()"
   ]
  },
  {
   "cell_type": "code",
   "execution_count": 275,
   "metadata": {},
   "outputs": [
    {
     "name": "stdout",
     "output_type": "stream",
     "text": [
      "Vocal cord strain or overuse\n",
      "The hoarseness started after a long day of talking, suggesting vocal strain due to overuse.\n",
      "\n",
      "Laryngitis\n",
      "The scratchy throat and hoarseness could indicate inflammation of the larynx, often due to overuse or irritation.\n",
      "\n",
      "Gastroesophageal reflux disease (GERD)\n",
      "Although the patient denies a history of acid reflux, GERD can cause hoarseness and throat discomfort, especially if there are no other clear causes.\n",
      "\n"
     ]
    }
   ],
   "source": [
    "for item in simulatedDoctor.differential_diagnoses.ChecklistItems:\n",
    "  print(item.diagnosis)\n",
    "  print(item.justification)\n",
    "  print()"
   ]
  },
  {
   "cell_type": "code",
   "execution_count": 276,
   "metadata": {},
   "outputs": [
    {
     "name": "stdout",
     "output_type": "stream",
     "text": [
      "Exporting history taken by doctor\n",
      "Exporting physical exam steps suggested by doctor\n",
      "Exporting investigations suggested by doctor\n",
      "Exporting differential diagnoses suggested by doctor\n"
     ]
    }
   ],
   "source": [
    "simulatedDoctor.export_all(file_name=\"gpt-mini-11\")"
   ]
  },
  {
   "cell_type": "code",
   "execution_count": 7,
   "metadata": {},
   "outputs": [],
   "source": [
    "# If LLM fails to produce output\n",
    "\n",
    "import pandas as pd\n",
    "\n",
    "pd.DataFrame(columns=['Diagnosis', 'Justification']).to_csv(\"Data/output/diagnosis/gemini-flash-16.csv\")\n",
    "pd.DataFrame(columns=['Diagnosis', 'Justification']).to_csv(\"Data/output/diagnosis/gemini-flash-16.csv\")\n",
    "pd.DataFrame(columns=['Investigation', 'Justification']).to_csv(\"Data/output/investigations/gemini-flash-16.csv\")\n",
    "pd.DataFrame(columns=['Physical Exam', 'Justification']).to_csv(\"Data/output/physical/gemini-flash-16.csv\")\n"
   ]
  }
 ],
 "metadata": {
  "kernelspec": {
   "display_name": "medbot",
   "language": "python",
   "name": "python3"
  },
  "language_info": {
   "codemirror_mode": {
    "name": "ipython",
    "version": 3
   },
   "file_extension": ".py",
   "mimetype": "text/x-python",
   "name": "python",
   "nbconvert_exporter": "python",
   "pygments_lexer": "ipython3",
   "version": "3.11.9"
  }
 },
 "nbformat": 4,
 "nbformat_minor": 2
}
